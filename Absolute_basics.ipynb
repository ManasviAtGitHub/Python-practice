{
  "nbformat": 4,
  "nbformat_minor": 0,
  "metadata": {
    "colab": {
      "name": "Absolute basics.ipynb",
      "provenance": [],
      "authorship_tag": "ABX9TyMPm94tr7IIIxG9mm6PW3OB",
      "include_colab_link": true
    },
    "kernelspec": {
      "name": "python3",
      "display_name": "Python 3"
    },
    "language_info": {
      "name": "python"
    }
  },
  "cells": [
    {
      "cell_type": "markdown",
      "metadata": {
        "id": "view-in-github",
        "colab_type": "text"
      },
      "source": [
        "<a href=\"https://colab.research.google.com/github/ManasviAtGitHub/Python-practice-DSA/blob/main/Absolute_basics.ipynb\" target=\"_parent\"><img src=\"https://colab.research.google.com/assets/colab-badge.svg\" alt=\"Open In Colab\"/></a>"
      ]
    },
    {
      "cell_type": "markdown",
      "source": [
        "Say Hellooo !!!"
      ],
      "metadata": {
        "id": "3t48_HLiiNg2"
      }
    },
    {
      "cell_type": "code",
      "execution_count": null,
      "metadata": {
        "colab": {
          "base_uri": "https://localhost:8080/"
        },
        "id": "hj5p4JOOf4Q_",
        "outputId": "5df80135-a7d5-4d47-b5a5-2a900b32679b"
      },
      "outputs": [
        {
          "output_type": "stream",
          "name": "stdout",
          "text": [
            "Hellooo !!!\n"
          ]
        }
      ],
      "source": [
        "print('Hellooo !!!')"
      ]
    },
    {
      "cell_type": "markdown",
      "source": [
        "Lets import and print again"
      ],
      "metadata": {
        "id": "p6jqV8eOiqJl"
      }
    },
    {
      "cell_type": "code",
      "source": [
        "import platform\n",
        "print('Python version {}'.format(platform.python_version()))"
      ],
      "metadata": {
        "colab": {
          "base_uri": "https://localhost:8080/"
        },
        "id": "rzMLF9W1iguI",
        "outputId": "fcf80740-b8cf-400b-8c9b-0061a0470ac9"
      },
      "execution_count": null,
      "outputs": [
        {
          "output_type": "stream",
          "name": "stdout",
          "text": [
            "Python version 3.7.13\n"
          ]
        }
      ]
    },
    {
      "cell_type": "markdown",
      "source": [
        "Same thing but another way... just for fun.\n",
        "\n",
        "Procedural style"
      ],
      "metadata": {
        "id": "MrjLGDMyi_NM"
      }
    },
    {
      "cell_type": "code",
      "source": [
        "import platform\n",
        "\n",
        "def main():\n",
        "  message()\n",
        "\n",
        "def message():\n",
        "  print('Python version {}'.format(platform.python_version()))\n",
        "\n",
        "if __name__ == '__main__' : main()"
      ],
      "metadata": {
        "colab": {
          "base_uri": "https://localhost:8080/"
        },
        "id": "-AFtSvkehg-C",
        "outputId": "8073c531-effa-4bae-b389-4d1641f8940e"
      },
      "execution_count": null,
      "outputs": [
        {
          "output_type": "stream",
          "name": "stdout",
          "text": [
            "Python version 3.7.13\n"
          ]
        }
      ]
    },
    {
      "cell_type": "markdown",
      "source": [
        "  Its all about indents..\n",
        "  isn't it"
      ],
      "metadata": {
        "id": "XMi1gdtijkmo"
      }
    },
    {
      "cell_type": "code",
      "source": [
        "import platform\n",
        "\n",
        "def main():\n",
        "  message()\n",
        "\n",
        "def message():\n",
        "  print('Python version {}'.format(platform.python_version()))\n",
        "  \n",
        "print('I am from message or am I just running wildly')\n",
        "\n",
        "if __name__ == '__main__' : main()"
      ],
      "metadata": {
        "colab": {
          "base_uri": "https://localhost:8080/"
        },
        "id": "4q96ilNZji6E",
        "outputId": "5983db66-af64-4c43-b826-486b3faf6a05"
      },
      "execution_count": null,
      "outputs": [
        {
          "output_type": "stream",
          "name": "stdout",
          "text": [
            "I am from message or am I just running wildly\n",
            "Python version 3.7.13\n"
          ]
        }
      ]
    },
    {
      "cell_type": "code",
      "source": [
        "import platform\n",
        "\n",
        "def main():\n",
        "  message()\n",
        "\n",
        "def message():\n",
        "  print('Python version {}'.format(platform.python_version()))\n",
        "  print('I am from message or am I just running wildly')\n",
        "\n",
        "if __name__ == '__main__' : main()"
      ],
      "metadata": {
        "colab": {
          "base_uri": "https://localhost:8080/"
        },
        "id": "Tm8oQXpakVTx",
        "outputId": "5fc8ec44-8b3a-49a8-d357-4a1e7827e837"
      },
      "execution_count": null,
      "outputs": [
        {
          "output_type": "stream",
          "name": "stdout",
          "text": [
            "Python version 3.7.13\n",
            "I am from message or am I just running wildly\n"
          ]
        }
      ]
    },
    {
      "cell_type": "markdown",
      "source": [
        "Format comes form string object..."
      ],
      "metadata": {
        "id": "OZhsTIMzkb8S"
      }
    },
    {
      "cell_type": "code",
      "source": [
        "universe = 42\n",
        "print(\"Truth of Universe is {}\".format(universe))"
      ],
      "metadata": {
        "colab": {
          "base_uri": "https://localhost:8080/"
        },
        "id": "veXVpkYvk5D9",
        "outputId": "1fdce8e1-6258-4689-c756-bcbfd86745e7"
      },
      "execution_count": null,
      "outputs": [
        {
          "output_type": "stream",
          "name": "stdout",
          "text": [
            "Truth of Universe is 42\n"
          ]
        }
      ]
    },
    {
      "cell_type": "markdown",
      "source": [
        "Blocks and scope"
      ],
      "metadata": {
        "id": "O6iNFqQFlOAw"
      }
    },
    {
      "cell_type": "code",
      "source": [
        "x = 42\n",
        "y = 73\n",
        "\n",
        "if x > y:\n",
        "  print('x < y: x is {} and y is {}'.format(x,y))\n",
        "  print ('x = {}'.format(x))\n",
        "print('y = {}'.format(y))\n"
      ],
      "metadata": {
        "colab": {
          "base_uri": "https://localhost:8080/"
        },
        "id": "A2Qm9xTjlMbi",
        "outputId": "a598c665-05d9-4581-a0dd-dfa8187423de"
      },
      "execution_count": null,
      "outputs": [
        {
          "output_type": "stream",
          "name": "stdout",
          "text": [
            "y = 73\n"
          ]
        }
      ]
    },
    {
      "cell_type": "markdown",
      "source": [
        "Does block define the scope ? \n",
        "hint: N_"
      ],
      "metadata": {
        "id": "j5RyLf8Yl_5q"
      }
    },
    {
      "cell_type": "code",
      "source": [
        "x = 42\n",
        "y = 73\n",
        "\n",
        "if x > y:\n",
        "  z=112 \n",
        "  print('x < y: x is {} and y is {}'.format(x,y))\n",
        "  print ('x = {}'.format(x))\n",
        "\n",
        "print('z = {}'.format(y))"
      ],
      "metadata": {
        "colab": {
          "base_uri": "https://localhost:8080/"
        },
        "id": "edM2PpVgl-wX",
        "outputId": "e9860140-f120-465a-f8f8-119b089a9abb"
      },
      "execution_count": null,
      "outputs": [
        {
          "output_type": "stream",
          "name": "stdout",
          "text": [
            "z = 73\n"
          ]
        }
      ]
    },
    {
      "cell_type": "markdown",
      "source": [
        "Conditionals"
      ],
      "metadata": {
        "id": "3Sjvi-yEmaGp"
      }
    },
    {
      "cell_type": "code",
      "source": [
        "x = 42\n",
        "y = 73\n",
        "\n",
        "if x < y:\n",
        "  print('x < y: x is {} and y is {}'.format(x,y))"
      ],
      "metadata": {
        "colab": {
          "base_uri": "https://localhost:8080/"
        },
        "id": "p-jXjbjmmrCd",
        "outputId": "b9e6d46b-d0b7-40de-ffbd-71617a954084"
      },
      "execution_count": null,
      "outputs": [
        {
          "output_type": "stream",
          "name": "stdout",
          "text": [
            "x < y: x is 42 and y is 73\n"
          ]
        }
      ]
    },
    {
      "cell_type": "code",
      "source": [
        "x = 115\n",
        "y = 73\n",
        "\n",
        "if x < y:\n",
        "  print('x < y: x is {} and y is {}'.format(x,y))\n",
        "\n",
        "elif x > y:\n",
        "  print('x > y: x is {} and y is {}'.format(x,y))\n",
        "else :\n",
        "  print('huhh....')"
      ],
      "metadata": {
        "colab": {
          "base_uri": "https://localhost:8080/"
        },
        "id": "mMvSRKs1mvUN",
        "outputId": "a19b50c0-ffb3-4550-b4dd-be2a2c9351aa"
      },
      "execution_count": null,
      "outputs": [
        {
          "output_type": "stream",
          "name": "stdout",
          "text": [
            "x > y: x is 115 and y is 73\n"
          ]
        }
      ]
    },
    {
      "cell_type": "markdown",
      "source": [
        "Loops.. for a while"
      ],
      "metadata": {
        "id": "uZw9H2hxnSHs"
      }
    },
    {
      "cell_type": "code",
      "source": [
        "letters = ['A','B','C']\n",
        "n = 0\n",
        "while(n<3):\n",
        "  print(letters[n])\n",
        "  n+=1"
      ],
      "metadata": {
        "colab": {
          "base_uri": "https://localhost:8080/"
        },
        "id": "Ne11EGojnRDM",
        "outputId": "22fff0ec-d280-428b-deb7-c1dcc663cddf"
      },
      "execution_count": null,
      "outputs": [
        {
          "output_type": "stream",
          "name": "stdout",
          "text": [
            "A\n",
            "B\n",
            "C\n"
          ]
        }
      ]
    },
    {
      "cell_type": "code",
      "source": [
        "a, b = 0, 1\n",
        "while b < 100:\n",
        "  print (b, end=\" \")\n",
        "  a, b = b, a+b"
      ],
      "metadata": {
        "colab": {
          "base_uri": "https://localhost:8080/"
        },
        "id": "kqev89d9nIe2",
        "outputId": "f2b845d6-3ae9-42ef-b22c-fcf887b887e1"
      },
      "execution_count": null,
      "outputs": [
        {
          "output_type": "stream",
          "name": "stdout",
          "text": [
            "1 1 2 3 5 8 13 21 34 55 89 "
          ]
        }
      ]
    },
    {
      "cell_type": "code",
      "source": [
        "letters = ['A','B','C']\n",
        "for i in letters:\n",
        "  print(i)"
      ],
      "metadata": {
        "colab": {
          "base_uri": "https://localhost:8080/"
        },
        "id": "FKBMv5ojoVM5",
        "outputId": "8a415c82-c40a-4e9f-d7ed-8d8435d75df1"
      },
      "execution_count": null,
      "outputs": [
        {
          "output_type": "stream",
          "name": "stdout",
          "text": [
            "A\n",
            "B\n",
            "C\n"
          ]
        }
      ]
    },
    {
      "cell_type": "markdown",
      "source": [
        "Functions"
      ],
      "metadata": {
        "id": "VgSc18u1oudm"
      }
    },
    {
      "cell_type": "code",
      "source": [
        "def func(n):\n",
        "  print(n)\n",
        "\n",
        "func(\"Hey... ?\")"
      ],
      "metadata": {
        "colab": {
          "base_uri": "https://localhost:8080/"
        },
        "id": "Te1N_RsYoiHg",
        "outputId": "7f5e6e03-0826-457b-ee15-36f6e2a76b35"
      },
      "execution_count": null,
      "outputs": [
        {
          "output_type": "stream",
          "name": "stdout",
          "text": [
            "Hey... ?\n"
          ]
        }
      ]
    },
    {
      "cell_type": "code",
      "source": [
        "def is_prime(n):\n",
        "  if n <= 1: \n",
        "    return False\n",
        "  for x in range(2, n):\n",
        "    if n%x == 0:\n",
        "      return False\n",
        "  else:\n",
        "    return True\n",
        "def list_primes(n):\n",
        "  for n in range(100):\n",
        "    if is_prime(n):\n",
        "      print(n, end =\" \")\n",
        "\n",
        "n = 6\n",
        "\n",
        "list_primes(n)"
      ],
      "metadata": {
        "colab": {
          "base_uri": "https://localhost:8080/"
        },
        "id": "-O3XpUE5o-jJ",
        "outputId": "1d95e00a-1503-4def-c7f8-e2d0d8304166"
      },
      "execution_count": null,
      "outputs": [
        {
          "output_type": "stream",
          "name": "stdout",
          "text": [
            "2 3 5 7 11 13 17 19 23 29 31 37 41 43 47 53 59 61 67 71 73 79 83 89 97 "
          ]
        }
      ]
    },
    {
      "cell_type": "markdown",
      "source": [
        "Objects"
      ],
      "metadata": {
        "id": "KAs1ET__qjOI"
      }
    },
    {
      "cell_type": "code",
      "source": [
        "class Duck:\n",
        "  sound = \"Quaaack Quaaack\"\n",
        "  walking =\"Walks like a duck\"\n",
        "\n",
        "  def quack(self):\n",
        "    print(self.sound)\n",
        "  \n",
        "  def walk(self):\n",
        "    print(self.walking)\n",
        "\n",
        "\n",
        "def main():\n",
        "  donald = Duck()\n",
        "  donald.quack()\n",
        "  donald.walk()\n",
        "\n",
        "if __name__ == '__main__' : main()"
      ],
      "metadata": {
        "colab": {
          "base_uri": "https://localhost:8080/"
        },
        "id": "HNanbsK5qh4r",
        "outputId": "99136d05-165a-485e-d975-fc9df5abda58"
      },
      "execution_count": null,
      "outputs": [
        {
          "output_type": "stream",
          "name": "stdout",
          "text": [
            "Quaaack Quaaack\n",
            "Walks like a duck\n"
          ]
        }
      ]
    },
    {
      "cell_type": "markdown",
      "source": [
        "Types : all types are classes... that's nice"
      ],
      "metadata": {
        "id": "3z92BNVKt1wg"
      }
    },
    {
      "cell_type": "markdown",
      "source": [
        "String Types"
      ],
      "metadata": {
        "id": "hvK_XCEWoIt-"
      }
    },
    {
      "cell_type": "code",
      "source": [
        "typ = [7,'7',7.7,True,None]\n",
        "\n",
        "for i in typ:\n",
        "  print(f'type of {i} is {type(i)}')"
      ],
      "metadata": {
        "colab": {
          "base_uri": "https://localhost:8080/"
        },
        "id": "IG67jDCGt3BR",
        "outputId": "043bb3dd-a7e9-44c9-84b6-8eee571f85d7"
      },
      "execution_count": null,
      "outputs": [
        {
          "output_type": "stream",
          "name": "stdout",
          "text": [
            "type of 7 is <class 'int'>\n",
            "type of 7 is <class 'str'>\n",
            "type of 7.7 is <class 'float'>\n",
            "type of True is <class 'bool'>\n",
            "type of None is <class 'NoneType'>\n"
          ]
        }
      ]
    },
    {
      "cell_type": "code",
      "source": [
        "x1 = 'Works'\n",
        "x2 = ''' Still Works '''\n",
        "y1 = \"Works\"\n",
        "y2 = \"\"\" Still Works \"\"\"\n",
        "\n",
        "z1 = 'multiverse'.capitalize()\n",
        "z2 = 'Multiverse'.lower()\n",
        "z3 = 'Multiverse'.upper()\n",
        "\n",
        "a1 = '7 {} {}'.format(8,9)\n",
        "a2 = '7 {1} {0}'.format(8,9)\n",
        "\n",
        "b1 = '7 {1:<9} {0:>9}'.format(8,9)\n",
        "b2 = '7 \"{1:<9}\" \"{0:>9}\" '.format(8,9)\n",
        "b3 = '7 \"{1:<09}\" \"{0:>09}\" '.format(8,9)\n",
        "\n",
        "print(f'x1 = {x1}')\n",
        "print(f'x2 = {x2}')\n",
        "print(f'y1 = {y1}')\n",
        "print(f'y2 = {y2}')\n",
        "\n",
        "\n",
        "print(f'z1 = {z1}')\n",
        "print(f'z2 = {z2}')\n",
        "print(f'z3 = {z3}')\n",
        "\n",
        "print(f'a1 = {a1}')\n",
        "print(f'a2 = {a2}')\n",
        "\n",
        "print(f'b1 = {b1}')\n",
        "print(f'b2 = {b2}')\n",
        "print(f'b3 = {b3}')"
      ],
      "metadata": {
        "colab": {
          "base_uri": "https://localhost:8080/"
        },
        "id": "Q85SbzpJugy0",
        "outputId": "574586c1-ed2d-46ef-cf3f-1c770251c4c6"
      },
      "execution_count": null,
      "outputs": [
        {
          "output_type": "stream",
          "name": "stdout",
          "text": [
            "x1 = Works\n",
            "x2 =  Still Works \n",
            "y1 = Works\n",
            "y2 =  Still Works \n",
            "z1 = Multiverse\n",
            "z2 = multiverse\n",
            "z3 = MULTIVERSE\n",
            "a1 = 7 8 9\n",
            "a2 = 7 9 8\n",
            "b1 = 7 9                 8\n",
            "b2 = 7 \"9        \" \"        8\" \n",
            "b3 = 7 \"900000000\" \"000000008\" \n"
          ]
        }
      ]
    },
    {
      "cell_type": "markdown",
      "source": [
        "Numeric Types"
      ],
      "metadata": {
        "id": "1QcFw612mSXG"
      }
    },
    {
      "cell_type": "code",
      "source": [
        "x = .1 + .1 + .1 -.3 # should be 0... but floating point numbers are different\n",
        "print(f'{x}')\n",
        "type(x)"
      ],
      "metadata": {
        "colab": {
          "base_uri": "https://localhost:8080/"
        },
        "id": "H3aQQtcrzKVH",
        "outputId": "45b663ec-db31-4140-e3af-fe2c0d427cfa"
      },
      "execution_count": null,
      "outputs": [
        {
          "output_type": "stream",
          "name": "stdout",
          "text": [
            "5.551115123125783e-17\n"
          ]
        },
        {
          "output_type": "execute_result",
          "data": {
            "text/plain": [
              "float"
            ]
          },
          "metadata": {},
          "execution_count": 1
        }
      ]
    },
    {
      "cell_type": "code",
      "source": [
        "from decimal import Decimal\n",
        "a = Decimal('.10')\n",
        "b = Decimal('.30')\n",
        "x = a+a+a-b\n",
        "print(f'{x}')\n",
        "type(x)"
      ],
      "metadata": {
        "colab": {
          "base_uri": "https://localhost:8080/"
        },
        "id": "EDtCACP2my-u",
        "outputId": "77a230dc-64aa-49e3-eb1b-2deb9b62dee6"
      },
      "execution_count": null,
      "outputs": [
        {
          "output_type": "stream",
          "name": "stdout",
          "text": [
            "0.00\n"
          ]
        },
        {
          "output_type": "execute_result",
          "data": {
            "text/plain": [
              "decimal.Decimal"
            ]
          },
          "metadata": {},
          "execution_count": 2
        }
      ]
    },
    {
      "cell_type": "markdown",
      "source": [
        "Logical Types"
      ],
      "metadata": {
        "id": "sZqpnFHXnTme"
      }
    },
    {
      "cell_type": "code",
      "source": [
        "x = True\n",
        "type(x)"
      ],
      "metadata": {
        "colab": {
          "base_uri": "https://localhost:8080/"
        },
        "id": "BqliiUmCnXM6",
        "outputId": "e4a2ac5e-f3c5-4564-b90e-798083249a7f"
      },
      "execution_count": null,
      "outputs": [
        {
          "output_type": "execute_result",
          "data": {
            "text/plain": [
              "bool"
            ]
          },
          "metadata": {},
          "execution_count": 3
        }
      ]
    },
    {
      "cell_type": "code",
      "source": [
        "x = 8>2\n",
        "type(x)"
      ],
      "metadata": {
        "colab": {
          "base_uri": "https://localhost:8080/"
        },
        "id": "8gY8lv4bnfMv",
        "outputId": "2570fa5b-f88b-4915-8315-45c437d3e101"
      },
      "execution_count": null,
      "outputs": [
        {
          "output_type": "execute_result",
          "data": {
            "text/plain": [
              "bool"
            ]
          },
          "metadata": {},
          "execution_count": 4
        }
      ]
    },
    {
      "cell_type": "code",
      "source": [
        "x = None\n",
        "if x:\n",
        "  print(\"True\")\n",
        "else:\n",
        "  print('False')"
      ],
      "metadata": {
        "colab": {
          "base_uri": "https://localhost:8080/"
        },
        "id": "vN9NGXRDnmvA",
        "outputId": "2d9eda94-a1a8-4a7b-c75d-74187960c2ee"
      },
      "execution_count": null,
      "outputs": [
        {
          "output_type": "stream",
          "name": "stdout",
          "text": [
            "False\n"
          ]
        }
      ]
    },
    {
      "cell_type": "code",
      "source": [
        "x =\"\"\n",
        "if x:\n",
        "  print(\"True\")\n",
        "else:\n",
        "  print('False')"
      ],
      "metadata": {
        "colab": {
          "base_uri": "https://localhost:8080/"
        },
        "id": "xQXysFpGny99",
        "outputId": "7dbb0b37-921b-4147-9f33-5ec395648e18"
      },
      "execution_count": null,
      "outputs": [
        {
          "output_type": "stream",
          "name": "stdout",
          "text": [
            "False\n"
          ]
        }
      ]
    },
    {
      "cell_type": "code",
      "source": [
        "x =\"T\"\n",
        "if x:\n",
        "  print(\"True\")\n",
        "else:\n",
        "  print('False')"
      ],
      "metadata": {
        "colab": {
          "base_uri": "https://localhost:8080/"
        },
        "id": "4F9dz9Yvn2v6",
        "outputId": "10c9e60c-a0a8-4cc8-b097-c1fe108c93e0"
      },
      "execution_count": null,
      "outputs": [
        {
          "output_type": "stream",
          "name": "stdout",
          "text": [
            "True\n"
          ]
        }
      ]
    },
    {
      "cell_type": "code",
      "source": [
        "x = 0\n",
        "if x:\n",
        "  print(\"True\")\n",
        "else:\n",
        "  print('False')"
      ],
      "metadata": {
        "colab": {
          "base_uri": "https://localhost:8080/"
        },
        "id": "dJcuGAy7n9CQ",
        "outputId": "0582a371-5e1b-49ed-8ada-9c9802bfd453"
      },
      "execution_count": null,
      "outputs": [
        {
          "output_type": "stream",
          "name": "stdout",
          "text": [
            "False\n"
          ]
        }
      ]
    },
    {
      "cell_type": "code",
      "source": [
        "x = 1\n",
        "if x:\n",
        "  print(\"True\")\n",
        "else:\n",
        "  print('False')"
      ],
      "metadata": {
        "colab": {
          "base_uri": "https://localhost:8080/"
        },
        "id": "ivHr0bxGoCsf",
        "outputId": "44258d78-6fb8-49df-bd4b-6e1e5a3d776e"
      },
      "execution_count": null,
      "outputs": [
        {
          "output_type": "stream",
          "name": "stdout",
          "text": [
            "True\n"
          ]
        }
      ]
    },
    {
      "cell_type": "markdown",
      "source": [
        "Lists.."
      ],
      "metadata": {
        "id": "V_aweoiOoqMQ"
      }
    },
    {
      "cell_type": "code",
      "source": [
        "x = [2,4,5,6,7,8,9]\n",
        "print(f\"{x}\")\n",
        "type(x)"
      ],
      "metadata": {
        "colab": {
          "base_uri": "https://localhost:8080/"
        },
        "id": "SErSGAg3oMDO",
        "outputId": "4128b4f8-3eee-44c0-8cd1-fb995dac727e"
      },
      "execution_count": null,
      "outputs": [
        {
          "output_type": "stream",
          "name": "stdout",
          "text": [
            "[2, 4, 5, 6, 7, 8, 9]\n"
          ]
        },
        {
          "output_type": "execute_result",
          "data": {
            "text/plain": [
              "list"
            ]
          },
          "metadata": {},
          "execution_count": 13
        }
      ]
    },
    {
      "cell_type": "code",
      "source": [
        "x = [2,4,5,6,7,8,9]\n",
        "x[1] = 3 # because lists are mutable\n",
        "print(f\"{x}\") "
      ],
      "metadata": {
        "colab": {
          "base_uri": "https://localhost:8080/"
        },
        "id": "foo2Qpruodbi",
        "outputId": "b6db9131-3f82-472f-f6c1-fae2fcb1e5c7"
      },
      "execution_count": null,
      "outputs": [
        {
          "output_type": "stream",
          "name": "stdout",
          "text": [
            "[2, 3, 5, 6, 7, 8, 9]\n"
          ]
        }
      ]
    },
    {
      "cell_type": "markdown",
      "source": [
        "Tuples"
      ],
      "metadata": {
        "id": "CLZsPSouo4SI"
      }
    },
    {
      "cell_type": "code",
      "source": [
        "x = (2,4,5,6,7,8,9)\n",
        "print(f\"{x}\") \n",
        "type(x)"
      ],
      "metadata": {
        "colab": {
          "base_uri": "https://localhost:8080/"
        },
        "id": "Qndei3ZNoo_W",
        "outputId": "27c3dd8f-8bf9-450d-ca3a-e476e7310d17"
      },
      "execution_count": null,
      "outputs": [
        {
          "output_type": "stream",
          "name": "stdout",
          "text": [
            "(2, 4, 5, 6, 7, 8, 9)\n"
          ]
        },
        {
          "output_type": "execute_result",
          "data": {
            "text/plain": [
              "tuple"
            ]
          },
          "metadata": {},
          "execution_count": 16
        }
      ]
    },
    {
      "cell_type": "code",
      "source": [
        "x = (2,4,5,6,7,8,9)\n",
        "#x[1] = 3 # Tuples are immutable so this won't work\n",
        "print(f\"{x}\") \n",
        "type(x)"
      ],
      "metadata": {
        "id": "W2_Q0DgKpD7J"
      },
      "execution_count": null,
      "outputs": []
    },
    {
      "cell_type": "markdown",
      "source": [
        "Range \n"
      ],
      "metadata": {
        "id": "Si0MqGsYqBre"
      }
    },
    {
      "cell_type": "code",
      "source": [
        "# Like tuples, range are also immutable\n",
        "# we can covert them into a list and then change\n",
        "x = range(5)\n",
        "for i in x:\n",
        "  print(i) \n",
        "type(x)"
      ],
      "metadata": {
        "colab": {
          "base_uri": "https://localhost:8080/"
        },
        "id": "LVg3YWNspY34",
        "outputId": "11924c64-d5e7-4722-c897-cdb86b959d9b"
      },
      "execution_count": null,
      "outputs": [
        {
          "output_type": "stream",
          "name": "stdout",
          "text": [
            "0\n",
            "1\n",
            "2\n",
            "3\n",
            "4\n"
          ]
        },
        {
          "output_type": "execute_result",
          "data": {
            "text/plain": [
              "range"
            ]
          },
          "metadata": {},
          "execution_count": 22
        }
      ]
    },
    {
      "cell_type": "code",
      "source": [
        "x = range(5,10)\n",
        "for i in x:\n",
        "  print(i) \n",
        "type(x)"
      ],
      "metadata": {
        "colab": {
          "base_uri": "https://localhost:8080/"
        },
        "id": "thJKN47PpmM_",
        "outputId": "5fbff1f3-509a-40e5-d956-3db41919478a"
      },
      "execution_count": null,
      "outputs": [
        {
          "output_type": "stream",
          "name": "stdout",
          "text": [
            "5\n",
            "6\n",
            "7\n",
            "8\n",
            "9\n"
          ]
        },
        {
          "output_type": "execute_result",
          "data": {
            "text/plain": [
              "range"
            ]
          },
          "metadata": {},
          "execution_count": 23
        }
      ]
    },
    {
      "cell_type": "code",
      "source": [
        "x = range(5,15,5)\n",
        "for i in x:\n",
        "  print(i) \n",
        "type(x)"
      ],
      "metadata": {
        "colab": {
          "base_uri": "https://localhost:8080/"
        },
        "id": "WHsvWjQJpr3_",
        "outputId": "1d7c5db7-20b8-4aab-b823-bd18c4fa7235"
      },
      "execution_count": null,
      "outputs": [
        {
          "output_type": "stream",
          "name": "stdout",
          "text": [
            "5\n",
            "10\n"
          ]
        },
        {
          "output_type": "execute_result",
          "data": {
            "text/plain": [
              "range"
            ]
          },
          "metadata": {},
          "execution_count": 24
        }
      ]
    },
    {
      "cell_type": "markdown",
      "source": [
        "Dictionary"
      ],
      "metadata": {
        "id": "bgNxqVW4qdw8"
      }
    },
    {
      "cell_type": "code",
      "source": [
        "#Dictionaries are mutable\n",
        "x = {'A':1, 'B': 2, 3:'C'}\n",
        "for i in x:\n",
        "  print(i)\n",
        "\n",
        "type(x)"
      ],
      "metadata": {
        "colab": {
          "base_uri": "https://localhost:8080/"
        },
        "id": "PVy5ruHzqcY5",
        "outputId": "4d6f3fd8-54a4-47cf-ea89-50616c66c530"
      },
      "execution_count": null,
      "outputs": [
        {
          "output_type": "stream",
          "name": "stdout",
          "text": [
            "A\n",
            "B\n",
            "3\n"
          ]
        },
        {
          "output_type": "execute_result",
          "data": {
            "text/plain": [
              "dict"
            ]
          },
          "metadata": {},
          "execution_count": 29
        }
      ]
    },
    {
      "cell_type": "code",
      "source": [
        "x = {'A':1, 'B': 2, 3:'C'}\n",
        "for k,v in x.items():\n",
        "  print(f\"key {k}, value {v}\")"
      ],
      "metadata": {
        "colab": {
          "base_uri": "https://localhost:8080/"
        },
        "id": "s1LDxMgcq4RJ",
        "outputId": "140b230a-2a92-42c7-ddab-83771231e6ae"
      },
      "execution_count": null,
      "outputs": [
        {
          "output_type": "stream",
          "name": "stdout",
          "text": [
            "key A, value 1\n",
            "key B, value 2\n",
            "key 3, value C\n"
          ]
        }
      ]
    },
    {
      "cell_type": "markdown",
      "source": [
        "Type and Id"
      ],
      "metadata": {
        "id": "pjthZ6QDrXXu"
      }
    },
    {
      "cell_type": "code",
      "source": [
        "x = (1,2,3)\n",
        "y = (3,4,5)\n",
        "\n",
        "print(type(x))\n",
        "print(type(y))"
      ],
      "metadata": {
        "colab": {
          "base_uri": "https://localhost:8080/"
        },
        "id": "RXyNpclurb7Z",
        "outputId": "b871033b-e551-4475-857b-35540c6aee52"
      },
      "execution_count": null,
      "outputs": [
        {
          "output_type": "stream",
          "name": "stdout",
          "text": [
            "<class 'tuple'>\n",
            "<class 'tuple'>\n"
          ]
        }
      ]
    },
    {
      "cell_type": "code",
      "source": [
        "x = (1,2,3)\n",
        "y = (3,4,5)\n",
        "\n",
        "print(type(x[0]))\n",
        "print(type(y[0]))"
      ],
      "metadata": {
        "colab": {
          "base_uri": "https://localhost:8080/"
        },
        "id": "nvpmCNvcr5IG",
        "outputId": "9b34e4b0-61a9-43b4-bb44-d21b7fefa2b3"
      },
      "execution_count": null,
      "outputs": [
        {
          "output_type": "stream",
          "name": "stdout",
          "text": [
            "<class 'int'>\n",
            "<class 'int'>\n"
          ]
        }
      ]
    },
    {
      "cell_type": "code",
      "source": [
        "x = (1,2,3)\n",
        "y = (3,4,5)\n",
        "\n",
        "print(id(x))\n",
        "print(id(y))"
      ],
      "metadata": {
        "colab": {
          "base_uri": "https://localhost:8080/"
        },
        "id": "4s729lM1sAdN",
        "outputId": "cdb9598d-6067-48f3-c927-4ab95d48a72c"
      },
      "execution_count": null,
      "outputs": [
        {
          "output_type": "stream",
          "name": "stdout",
          "text": [
            "140305544146608\n",
            "140305543453264\n"
          ]
        }
      ]
    },
    {
      "cell_type": "code",
      "source": [
        "x = (1,2,3)\n",
        "y = (3,4,5)\n",
        "\n",
        "# both are 3\n",
        "print(id(x[2]))\n",
        "print(id(y[0]))"
      ],
      "metadata": {
        "colab": {
          "base_uri": "https://localhost:8080/"
        },
        "id": "OlwtKzy0sFiC",
        "outputId": "3d1a1306-18c1-4b76-dd3f-5d4603ec4d36"
      },
      "execution_count": null,
      "outputs": [
        {
          "output_type": "stream",
          "name": "stdout",
          "text": [
            "11256128\n",
            "11256128\n"
          ]
        }
      ]
    },
    {
      "cell_type": "markdown",
      "source": [
        "Bitwise Operators"
      ],
      "metadata": {
        "id": "1Oe03aNKvE3z"
      }
    },
    {
      "cell_type": "code",
      "source": [
        "x = 0x10\n",
        "y = 0x15\n",
        "z = x & y #and\n",
        "\n",
        "print(f'hex x is {x:02x}, y is {y:02x}, z is {z:02x}')\n",
        "\n",
        "print(f'bin x is {x:08b}, y is {y:08b}, z is {z:08b}')"
      ],
      "metadata": {
        "colab": {
          "base_uri": "https://localhost:8080/"
        },
        "id": "kpx06Ya9vLpv",
        "outputId": "3c7eb1d4-e690-436b-b64e-424acf86990d"
      },
      "execution_count": null,
      "outputs": [
        {
          "output_type": "stream",
          "name": "stdout",
          "text": [
            "hex x is 10, y is 15, z is 10\n",
            "bin x is 00010000, y is 00010101, z is 00010000\n"
          ]
        }
      ]
    },
    {
      "cell_type": "code",
      "source": [
        "z = x | y #or\n",
        "\n",
        "print(f'hex x is {x:02x}, y is {y:02x}, z is {z:02x}')\n",
        "\n",
        "print(f'bin x is {x:08b}, y is {y:08b}, z is {z:08b}')"
      ],
      "metadata": {
        "colab": {
          "base_uri": "https://localhost:8080/"
        },
        "id": "1Uo36Va42zAI",
        "outputId": "1121c2c5-3325-499f-c7cf-a9024d29cced"
      },
      "execution_count": null,
      "outputs": [
        {
          "output_type": "stream",
          "name": "stdout",
          "text": [
            "hex x is 10, y is 15, z is 15\n",
            "bin x is 00010000, y is 00010101, z is 00010101\n"
          ]
        }
      ]
    },
    {
      "cell_type": "code",
      "source": [
        "z = x ^ y #xor\n",
        "print(f'hex x is {x:02x}, y is {y:02x}, z is {z:02x}')\n",
        "\n",
        "print(f'bin x is {x:08b}, y is {y:08b}, z is {z:08b}')"
      ],
      "metadata": {
        "colab": {
          "base_uri": "https://localhost:8080/"
        },
        "id": "BhX49IOI2vaJ",
        "outputId": "c590835d-bd81-40e2-c389-a34f5eba4fcd"
      },
      "execution_count": null,
      "outputs": [
        {
          "output_type": "stream",
          "name": "stdout",
          "text": [
            "hex x is 10, y is 15, z is 05\n",
            "bin x is 00010000, y is 00010101, z is 00000101\n"
          ]
        }
      ]
    },
    {
      "cell_type": "code",
      "source": [
        "z = x << 1 #shift left\n",
        "print(f'hex x is {x:02x}, y is {y:02x}, z is {z:02x}')\n",
        "\n",
        "print(f'bin x is {x:08b}, y is {y:08b}, z is {z:08b}')"
      ],
      "metadata": {
        "colab": {
          "base_uri": "https://localhost:8080/"
        },
        "id": "oK41qeGn3Dpe",
        "outputId": "65ec94a7-0680-4a24-d389-116c2c54abf1"
      },
      "execution_count": null,
      "outputs": [
        {
          "output_type": "stream",
          "name": "stdout",
          "text": [
            "hex x is 10, y is 15, z is 20\n",
            "bin x is 00010000, y is 00010101, z is 00100000\n"
          ]
        }
      ]
    },
    {
      "cell_type": "code",
      "source": [
        "z = x >> 1 #shift right\n",
        "print(f'hex x is {x:02x}, y is {y:02x}, z is {z:02x}')\n",
        "\n",
        "print(f'bin x is {x:08b}, y is {y:08b}, z is {z:08b}')"
      ],
      "metadata": {
        "colab": {
          "base_uri": "https://localhost:8080/"
        },
        "id": "3C5pdP5e3vJ_",
        "outputId": "6e668e87-a23f-4856-f3d6-fbca74007bca"
      },
      "execution_count": null,
      "outputs": [
        {
          "output_type": "stream",
          "name": "stdout",
          "text": [
            "hex x is 10, y is 15, z is 08\n",
            "bin x is 00010000, y is 00010101, z is 00001000\n"
          ]
        }
      ]
    },
    {
      "cell_type": "markdown",
      "source": [
        "Boolean Operators"
      ],
      "metadata": {
        "id": "IE2HHJVss4w5"
      }
    },
    {
      "cell_type": "code",
      "source": [
        "a = True\n",
        "b = False\n",
        "\n",
        "if a and b:\n",
        "     print ('expression is true')\n",
        "else:\n",
        "     print ('expression is false')"
      ],
      "metadata": {
        "colab": {
          "base_uri": "https://localhost:8080/"
        },
        "id": "dHJuSBPx5M7U",
        "outputId": "2999b2a7-8b1e-4d44-97a5-94362c46cc80"
      },
      "execution_count": null,
      "outputs": [
        {
          "output_type": "stream",
          "name": "stdout",
          "text": [
            "expression is false\n"
          ]
        }
      ]
    },
    {
      "cell_type": "code",
      "source": [
        "a = True\n",
        "b = False\n",
        "\n",
        "if a or b:\n",
        "     print ('expression is true')\n",
        "else:\n",
        "     print ('expression is false')"
      ],
      "metadata": {
        "colab": {
          "base_uri": "https://localhost:8080/"
        },
        "id": "-1NM-HFTtDfW",
        "outputId": "afadd08f-42f7-4063-f59d-256cc0ac1f3f"
      },
      "execution_count": null,
      "outputs": [
        {
          "output_type": "stream",
          "name": "stdout",
          "text": [
            "expression is true\n"
          ]
        }
      ]
    },
    {
      "cell_type": "code",
      "source": [
        "a = True\n",
        "b = False\n",
        "\n",
        "if not b:\n",
        "     print ('expression is true')\n",
        "else:\n",
        "     print ('expression is false')"
      ],
      "metadata": {
        "colab": {
          "base_uri": "https://localhost:8080/"
        },
        "id": "fIUPDIqStG1S",
        "outputId": "03f054b7-eb5f-4b4b-91c7-2b4d8b9e5949"
      },
      "execution_count": null,
      "outputs": [
        {
          "output_type": "stream",
          "name": "stdout",
          "text": [
            "expression is true\n"
          ]
        }
      ]
    },
    {
      "cell_type": "code",
      "source": [
        ""
      ],
      "metadata": {
        "id": "L5xDLtrjtKs9"
      },
      "execution_count": null,
      "outputs": []
    },
    {
      "cell_type": "code",
      "source": [
        "x = ('bear' , 'bunny' , 'tree' , 'sky', 'rain')\n",
        "y = 'bear'\n",
        "\n",
        "if y in x:\n",
        "     print ('expression is true')\n",
        "else:\n",
        "     print ('expression is false')"
      ],
      "metadata": {
        "colab": {
          "base_uri": "https://localhost:8080/"
        },
        "id": "BIbSUXn25M-m",
        "outputId": "61e0dcd9-840a-4a19-ea2a-50c4e4ddfee6"
      },
      "execution_count": null,
      "outputs": [
        {
          "output_type": "stream",
          "name": "stdout",
          "text": [
            "expression is true\n"
          ]
        }
      ]
    },
    {
      "cell_type": "code",
      "source": [
        "x = ('bear' , 'bunny' , 'tree' , 'sky', 'rain')\n",
        "y = 'bear'\n",
        "\n",
        "if 'stem' in x:\n",
        "     print ('expression is true')\n",
        "else:\n",
        "     print ('expression is false')"
      ],
      "metadata": {
        "colab": {
          "base_uri": "https://localhost:8080/"
        },
        "id": "vY9912M15NGk",
        "outputId": "e9a9eaec-0dd5-4f3e-ffca-5a77897ddea3"
      },
      "execution_count": null,
      "outputs": [
        {
          "output_type": "stream",
          "name": "stdout",
          "text": [
            "expression is false\n"
          ]
        }
      ]
    },
    {
      "cell_type": "code",
      "source": [
        "x = ('bear' , 'bunny' , 'tree' , 'sky', 'rain')\n",
        "y = 'bear'\n",
        "\n",
        "if y is x[0]:\n",
        "     print ('expression is true')\n",
        "else:\n",
        "     print ('expression is false')\n",
        "\n",
        "print(id(y))\n",
        "print(id(x[0]))"
      ],
      "metadata": {
        "colab": {
          "base_uri": "https://localhost:8080/"
        },
        "id": "jqYCrFwm5NIf",
        "outputId": "fe8b44aa-0d01-462b-95a2-95dd433fde50"
      },
      "execution_count": null,
      "outputs": [
        {
          "output_type": "stream",
          "name": "stdout",
          "text": [
            "expression is true\n",
            "139842691767792\n",
            "139842691767792\n"
          ]
        }
      ]
    },
    {
      "cell_type": "code",
      "source": [
        "x = ('bear' , 'bunny' , 'tree' , 'sky', 'rain')\n",
        "y = 'bear'\n",
        "\n",
        "if y is not x[0]:\n",
        "     print ('expression is true')\n",
        "else:\n",
        "     print ('expression is false')"
      ],
      "metadata": {
        "colab": {
          "base_uri": "https://localhost:8080/"
        },
        "id": "BYUXW11w5NL9",
        "outputId": "aede985b-56dc-42f4-f92a-91d88cb2bbdb"
      },
      "execution_count": null,
      "outputs": [
        {
          "output_type": "stream",
          "name": "stdout",
          "text": [
            "expression is false\n"
          ]
        }
      ]
    },
    {
      "cell_type": "markdown",
      "source": [
        "Take break, then continue or do something else !!"
      ],
      "metadata": {
        "id": "fUJ7Bhx5vEQC"
      }
    },
    {
      "cell_type": "code",
      "source": [
        "guess = \"mystery\"\n",
        "word =\"\"\n",
        "count=0\n",
        "found = False\n",
        "attempts= 5\n",
        "while word != guess:\n",
        "  count+=1\n",
        "  if count>attempts:break\n",
        "  if count == 3 : continue\n",
        "  word = input(f\"{count} Guess the mystery word : \")\n",
        "else:\n",
        "  found = True\n",
        "\n",
        "print(\"Found the treasure\" if found else \"Try again later\")"
      ],
      "metadata": {
        "colab": {
          "base_uri": "https://localhost:8080/"
        },
        "id": "iAfIRyBWvMfG",
        "outputId": "1c6acf97-9224-4516-e7ae-bad6f18b2b35"
      },
      "execution_count": null,
      "outputs": [
        {
          "output_type": "stream",
          "name": "stdout",
          "text": [
            "1 Guess the mystery word : is\n",
            "2 Guess the mystery word : this\n",
            "4 Guess the mystery word : a\n",
            "5 Guess the mystery word : mystery\n",
            "Found the treasure\n"
          ]
        }
      ]
    },
    {
      "cell_type": "code",
      "source": [
        "nums = (1,2,3,4,5)\n",
        "for n in nums:\n",
        "  #if n == 5 : break\n",
        "  #if n == 3 : continue\n",
        "  print(n)\n",
        "\n",
        "else:\n",
        "  print(\"That's all\")\n"
      ],
      "metadata": {
        "colab": {
          "base_uri": "https://localhost:8080/"
        },
        "id": "9W3iFhLQz7Fw",
        "outputId": "d8cc62ed-40d9-47ed-d97d-d0384823667c"
      },
      "execution_count": null,
      "outputs": [
        {
          "output_type": "stream",
          "name": "stdout",
          "text": [
            "1\n",
            "2\n",
            "3\n",
            "4\n",
            "5\n",
            "That's all\n"
          ]
        }
      ]
    },
    {
      "cell_type": "markdown",
      "source": [
        "Functions.. arguments.. default, list, keyword"
      ],
      "metadata": {
        "id": "f-imcK-GFXfw"
      }
    },
    {
      "cell_type": "code",
      "source": [
        "def main():\n",
        "  call(\"hey\")\n",
        "\n",
        "def call(n):\n",
        "  print(n)\n",
        "\n",
        "if __name__ == '__main__':main()"
      ],
      "metadata": {
        "colab": {
          "base_uri": "https://localhost:8080/"
        },
        "id": "fs5ctWCBFcCU",
        "outputId": "b001e5de-f6c6-424e-a9a3-f044777b6cf0"
      },
      "execution_count": null,
      "outputs": [
        {
          "output_type": "stream",
          "name": "stdout",
          "text": [
            "hey\n"
          ]
        }
      ]
    },
    {
      "cell_type": "code",
      "source": [
        "def main():\n",
        "  call2(\"hey\")\n",
        "\n",
        "def call2(n,g=\"how are you ?\"):\n",
        "  print(n,g)\n",
        "\n",
        "if __name__ == '__main__':main()"
      ],
      "metadata": {
        "colab": {
          "base_uri": "https://localhost:8080/"
        },
        "id": "c6NonsShFxsf",
        "outputId": "7667a80f-f845-4390-a251-c38ec564706b"
      },
      "execution_count": null,
      "outputs": [
        {
          "output_type": "stream",
          "name": "stdout",
          "text": [
            "hey how are you ?\n"
          ]
        }
      ]
    },
    {
      "cell_type": "code",
      "source": [
        "def main():\n",
        "  call3(\"hey\")\n",
        "\n",
        "def call3(n,g=\"how are you ?\", t=\"today\"):\n",
        "  print(n,g,t)\n",
        "\n",
        "if __name__ == '__main__':main()"
      ],
      "metadata": {
        "colab": {
          "base_uri": "https://localhost:8080/"
        },
        "id": "7m1jQH0gGCf8",
        "outputId": "9f29a969-a7e6-4796-98eb-d36045764979"
      },
      "execution_count": null,
      "outputs": [
        {
          "output_type": "stream",
          "name": "stdout",
          "text": [
            "hey how are you ? today\n"
          ]
        }
      ]
    },
    {
      "cell_type": "code",
      "source": [
        "def main():\n",
        "  call3(\"hey\",\"where are you ?\")\n",
        "\n",
        "def call3(n,g=\"how are you ?\", t=\"today\"):\n",
        "  print(n,g,t)\n",
        "\n",
        "if __name__ == '__main__':main()"
      ],
      "metadata": {
        "colab": {
          "base_uri": "https://localhost:8080/"
        },
        "id": "h18PPFvcGRkh",
        "outputId": "f86a8d20-c9ad-404b-b48b-023d28af22b5"
      },
      "execution_count": null,
      "outputs": [
        {
          "output_type": "stream",
          "name": "stdout",
          "text": [
            "hey where are you ? today\n"
          ]
        }
      ]
    },
    {
      "cell_type": "code",
      "source": [
        "def main():\n",
        "  willchange =[100]\n",
        "  willnot = 3\n",
        "  print(willchange[0],willnot)\n",
        "  call4(willchange,willnot)\n",
        "  print(willchange[0],willnot)\n",
        "\n",
        "def call4(w,x):\n",
        "  w[0] = 200\n",
        "  x = 300\n",
        "  print(w[0],x)\n",
        "\n",
        "if __name__ == '__main__':main()"
      ],
      "metadata": {
        "colab": {
          "base_uri": "https://localhost:8080/"
        },
        "id": "Kd2MA-qqGfPd",
        "outputId": "fa7e39d9-ba58-4c39-ce61-52492c509757"
      },
      "execution_count": null,
      "outputs": [
        {
          "output_type": "stream",
          "name": "stdout",
          "text": [
            "100 3\n",
            "200 300\n",
            "200 3\n"
          ]
        }
      ]
    },
    {
      "cell_type": "code",
      "source": [
        "def main():\n",
        "  send = [1,2,3]\n",
        "\n",
        "  call5(*send)# unpacks the list and then sends to function\n",
        "  call5(4,5,6,7)\n",
        "\n",
        "def call5(*nums):\n",
        "  for i in nums:\n",
        "    print(i)\n",
        " \n",
        "\n",
        "if __name__ == '__main__':main()"
      ],
      "metadata": {
        "colab": {
          "base_uri": "https://localhost:8080/"
        },
        "id": "ZZAzbrT3HmTT",
        "outputId": "fd76ace9-788a-420b-cbfb-47bade9773e7"
      },
      "execution_count": null,
      "outputs": [
        {
          "output_type": "stream",
          "name": "stdout",
          "text": [
            "1\n",
            "2\n",
            "3\n",
            "4\n",
            "5\n",
            "6\n",
            "7\n"
          ]
        }
      ]
    },
    {
      "cell_type": "code",
      "source": [
        "def main():\n",
        "  send = {\"A\":1, \"B\":2}\n",
        "\n",
        "  call6(**send)# unpacks the dictionary and then sends to function\n",
        "  call6(C=3, D=4)\n",
        "\n",
        "def call6(**args):\n",
        "  for i in args:\n",
        "    print(i, args[i])\n",
        " \n",
        "\n",
        "if __name__ == '__main__':main()"
      ],
      "metadata": {
        "colab": {
          "base_uri": "https://localhost:8080/"
        },
        "id": "joYSxOAIIbav",
        "outputId": "87bd2da1-bf82-4c96-bc48-f335eac2c13b"
      },
      "execution_count": null,
      "outputs": [
        {
          "output_type": "stream",
          "name": "stdout",
          "text": [
            "A 1\n",
            "B 2\n",
            "C 3\n",
            "D 4\n"
          ]
        }
      ]
    },
    {
      "cell_type": "markdown",
      "source": [
        "Generator and Decorator"
      ],
      "metadata": {
        "id": "qkeBOjUoJq_d"
      }
    },
    {
      "cell_type": "code",
      "source": [
        "def generator(start,stop):\n",
        "    while (start<=stop):\n",
        "        yield start\n",
        "        print(f'start={start}')\n",
        "        start+=1\n",
        "for counter in generator(3,4):\n",
        "    print(f'counter={counter}')"
      ],
      "metadata": {
        "id": "tO01O98bJ1Lb",
        "outputId": "7408b441-e020-405e-ff33-4d2735c00a8f",
        "colab": {
          "base_uri": "https://localhost:8080/"
        }
      },
      "execution_count": null,
      "outputs": [
        {
          "output_type": "stream",
          "name": "stdout",
          "text": [
            "counter=3\n",
            "start=3\n",
            "counter=4\n",
            "start=4\n"
          ]
        }
      ]
    },
    {
      "cell_type": "code",
      "source": [
        "def F1(f):\n",
        "    print('A')\n",
        "    def F2():\n",
        "        print('B')\n",
        "        f()\n",
        "        print('C')\n",
        "    print('D')\n",
        "    return F2\n",
        "@F1\n",
        "def F3():\n",
        "    print('E')\n",
        "F3()"
      ],
      "metadata": {
        "colab": {
          "base_uri": "https://localhost:8080/"
        },
        "id": "uAedSA4VJqO0",
        "outputId": "38e622d8-6fd1-4e32-a210-6ce260ec2ca5"
      },
      "execution_count": null,
      "outputs": [
        {
          "output_type": "stream",
          "name": "stdout",
          "text": [
            "A\n",
            "D\n",
            "B\n",
            "E\n",
            "C\n"
          ]
        }
      ]
    },
    {
      "cell_type": "code",
      "source": [
        ""
      ],
      "metadata": {
        "id": "x9GZeFmHIbfO"
      },
      "execution_count": null,
      "outputs": []
    },
    {
      "cell_type": "code",
      "source": [
        ""
      ],
      "metadata": {
        "id": "C884wAfTIbi0"
      },
      "execution_count": null,
      "outputs": []
    }
  ]
}
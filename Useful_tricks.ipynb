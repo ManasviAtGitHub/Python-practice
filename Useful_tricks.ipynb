{
  "nbformat": 4,
  "nbformat_minor": 0,
  "metadata": {
    "colab": {
      "name": "Useful tricks.ipynb",
      "provenance": [],
      "authorship_tag": "ABX9TyPIM89sWJrfB2FQBopiS+gc",
      "include_colab_link": true
    },
    "kernelspec": {
      "name": "python3",
      "display_name": "Python 3"
    },
    "language_info": {
      "name": "python"
    }
  },
  "cells": [
    {
      "cell_type": "markdown",
      "metadata": {
        "id": "view-in-github",
        "colab_type": "text"
      },
      "source": [
        "<a href=\"https://colab.research.google.com/github/ManasviAtGitHub/Python-practice-DSA/blob/main/Useful_tricks.ipynb\" target=\"_parent\"><img src=\"https://colab.research.google.com/assets/colab-badge.svg\" alt=\"Open In Colab\"/></a>"
      ]
    },
    {
      "cell_type": "markdown",
      "source": [
        "Zen of Python.."
      ],
      "metadata": {
        "id": "gNM8JNwnvpVL"
      }
    },
    {
      "cell_type": "code",
      "execution_count": null,
      "metadata": {
        "colab": {
          "base_uri": "https://localhost:8080/"
        },
        "id": "3huoDHtrvRfz",
        "outputId": "66bfc322-6100-43c6-abc0-ce7914c9a58c"
      },
      "outputs": [
        {
          "output_type": "stream",
          "name": "stdout",
          "text": [
            "The Zen of Python, by Tim Peters\n",
            "\n",
            "Beautiful is better than ugly.\n",
            "Explicit is better than implicit.\n",
            "Simple is better than complex.\n",
            "Complex is better than complicated.\n",
            "Flat is better than nested.\n",
            "Sparse is better than dense.\n",
            "Readability counts.\n",
            "Special cases aren't special enough to break the rules.\n",
            "Although practicality beats purity.\n",
            "Errors should never pass silently.\n",
            "Unless explicitly silenced.\n",
            "In the face of ambiguity, refuse the temptation to guess.\n",
            "There should be one-- and preferably only one --obvious way to do it.\n",
            "Although that way may not be obvious at first unless you're Dutch.\n",
            "Now is better than never.\n",
            "Although never is often better than *right* now.\n",
            "If the implementation is hard to explain, it's a bad idea.\n",
            "If the implementation is easy to explain, it may be a good idea.\n",
            "Namespaces are one honking great idea -- let's do more of those!\n"
          ]
        }
      ],
      "source": [
        "import this"
      ]
    },
    {
      "cell_type": "markdown",
      "source": [
        "List comprehension"
      ],
      "metadata": {
        "id": "h1nyx8_lJV_V"
      }
    },
    {
      "cell_type": "code",
      "source": [
        "names = ['Apple', 'Grapes', 'Chickoo']\n",
        "counts = [len(n) for n in names]\n",
        "print(counts)"
      ],
      "metadata": {
        "id": "BQT8hqh1vt_t",
        "colab": {
          "base_uri": "https://localhost:8080/"
        },
        "outputId": "22b3cd28-92df-47ea-9765-95d56f01da89"
      },
      "execution_count": 1,
      "outputs": [
        {
          "output_type": "stream",
          "name": "stdout",
          "text": [
            "[5, 6, 7]\n"
          ]
        }
      ]
    },
    {
      "cell_type": "code",
      "source": [
        "longest_name = None\n",
        "max_count = 0\n",
        "for i in range(len(names)):\n",
        " count = counts[i]\n",
        " if count > max_count:\n",
        "  longest_name = names[i]\n",
        "  max_count = count\n",
        "\n",
        "print(longest_name)"
      ],
      "metadata": {
        "colab": {
          "base_uri": "https://localhost:8080/"
        },
        "id": "ztmLpNYIJoid",
        "outputId": "81c3f0f3-8f52-45bd-c9a9-6af28f60889a"
      },
      "execution_count": 2,
      "outputs": [
        {
          "output_type": "stream",
          "name": "stdout",
          "text": [
            "Chickoo\n"
          ]
        }
      ]
    },
    {
      "cell_type": "markdown",
      "source": [
        "zip : wraps two or more iterators with a generator, different length won't work (can use zip_longest)"
      ],
      "metadata": {
        "id": "IfP6bVmlJkWE"
      }
    },
    {
      "cell_type": "code",
      "source": [
        "for name,count in zip(names,counts):\n",
        "  if count > max_count:\n",
        "    longest_name = name\n",
        "    max_count = count\n",
        "\n",
        "print(longest_name)"
      ],
      "metadata": {
        "colab": {
          "base_uri": "https://localhost:8080/"
        },
        "id": "4V5xwR1XKCSU",
        "outputId": "dbbdccff-8ae8-457f-8ccb-f9fb03149bbc"
      },
      "execution_count": 3,
      "outputs": [
        {
          "output_type": "stream",
          "name": "stdout",
          "text": [
            "Chickoo\n"
          ]
        }
      ]
    },
    {
      "cell_type": "markdown",
      "source": [
        "List and Dictionaries"
      ],
      "metadata": {
        "id": "CC_6OVJONJN4"
      }
    },
    {
      "cell_type": "markdown",
      "source": [
        "Slicing"
      ],
      "metadata": {
        "id": "_Fm5F8sKNQ-s"
      }
    },
    {
      "cell_type": "code",
      "source": [
        "s = ['a','b','c','d','e','f','g','h']\n",
        "print(f\"Middle : {s[3:5]}\")\n",
        "print(f\"All but ends : {s[1:7]}\")"
      ],
      "metadata": {
        "colab": {
          "base_uri": "https://localhost:8080/"
        },
        "id": "w9GVp_aKK-Ro",
        "outputId": "fd8293f4-5fa9-4a65-8ff4-edfdffbbd8b5"
      },
      "execution_count": 4,
      "outputs": [
        {
          "output_type": "stream",
          "name": "stdout",
          "text": [
            "Middle : ['d', 'e']\n",
            "All but ends : ['b', 'c', 'd', 'e', 'f', 'g']\n"
          ]
        }
      ]
    },
    {
      "cell_type": "markdown",
      "source": [
        "start (0) to some n"
      ],
      "metadata": {
        "id": "yiB72ugJOZaT"
      }
    },
    {
      "cell_type": "code",
      "source": [
        "print (s[:5], s[0:5])"
      ],
      "metadata": {
        "colab": {
          "base_uri": "https://localhost:8080/"
        },
        "id": "O42QASYaOEA8",
        "outputId": "133dfef0-4a6e-465a-a5f2-c78d757a9208"
      },
      "execution_count": 8,
      "outputs": [
        {
          "output_type": "stream",
          "name": "stdout",
          "text": [
            "['a', 'b', 'c', 'd', 'e'] ['a', 'b', 'c', 'd', 'e']\n"
          ]
        }
      ]
    },
    {
      "cell_type": "markdown",
      "source": [
        "some n to end"
      ],
      "metadata": {
        "id": "93hDXVfSOqar"
      }
    },
    {
      "cell_type": "code",
      "source": [
        "print(s[5:], s[5:len(s)]) "
      ],
      "metadata": {
        "colab": {
          "base_uri": "https://localhost:8080/"
        },
        "id": "s_KjFkdPOS3o",
        "outputId": "0e26e4c9-ffcb-46e3-82c2-945e524a16da"
      },
      "execution_count": 9,
      "outputs": [
        {
          "output_type": "stream",
          "name": "stdout",
          "text": [
            "['f', 'g', 'h'] ['f', 'g', 'h']\n"
          ]
        }
      ]
    },
    {
      "cell_type": "markdown",
      "source": [
        "all elements"
      ],
      "metadata": {
        "id": "voDbSn5SPLwQ"
      }
    },
    {
      "cell_type": "code",
      "source": [
        "print(s[:], s[:len(s)])"
      ],
      "metadata": {
        "colab": {
          "base_uri": "https://localhost:8080/"
        },
        "id": "aRkzQBC7PL_h",
        "outputId": "9b7fb3a4-c69f-4b2a-9368-1f7632390d98"
      },
      "execution_count": 10,
      "outputs": [
        {
          "output_type": "stream",
          "name": "stdout",
          "text": [
            "['a', 'b', 'c', 'd', 'e', 'f', 'g', 'h'] ['a', 'b', 'c', 'd', 'e', 'f', 'g', 'h']\n"
          ]
        }
      ]
    },
    {
      "cell_type": "markdown",
      "source": [
        "Using negative numbers"
      ],
      "metadata": {
        "id": "ZY00IwtkPqR9"
      }
    },
    {
      "cell_type": "code",
      "source": [
        "print(s[:-1]) #removing last element"
      ],
      "metadata": {
        "colab": {
          "base_uri": "https://localhost:8080/"
        },
        "id": "s6iogJ4tPqkQ",
        "outputId": "ed31afbc-31e9-4cf6-bdbe-291e4e22955d"
      },
      "execution_count": 11,
      "outputs": [
        {
          "output_type": "stream",
          "name": "stdout",
          "text": [
            "['a', 'b', 'c', 'd', 'e', 'f', 'g']\n"
          ]
        }
      ]
    },
    {
      "cell_type": "code",
      "source": [
        "print(s[:-3]) #removing last 3 element"
      ],
      "metadata": {
        "colab": {
          "base_uri": "https://localhost:8080/"
        },
        "id": "J2xZT6TYQJ1-",
        "outputId": "287c3544-266c-4789-8197-5560ac7ea72c"
      },
      "execution_count": 12,
      "outputs": [
        {
          "output_type": "stream",
          "name": "stdout",
          "text": [
            "['a', 'b', 'c', 'd', 'e']\n"
          ]
        }
      ]
    },
    {
      "cell_type": "code",
      "source": [
        "print(s[-3:]) #keeping only last 3 element"
      ],
      "metadata": {
        "colab": {
          "base_uri": "https://localhost:8080/"
        },
        "id": "eMT3QQ_NQVQg",
        "outputId": "4172d0db-2b50-4d80-a676-e58e45a6a30c"
      },
      "execution_count": 13,
      "outputs": [
        {
          "output_type": "stream",
          "name": "stdout",
          "text": [
            "['f', 'g', 'h']\n"
          ]
        }
      ]
    },
    {
      "cell_type": "code",
      "source": [
        "print(s[-3:-1]) #keeping only last 2 element"
      ],
      "metadata": {
        "colab": {
          "base_uri": "https://localhost:8080/"
        },
        "id": "XOGYppZvQVT-",
        "outputId": "676bf308-d1da-4314-98c3-e4c5091235d7"
      },
      "execution_count": 14,
      "outputs": [
        {
          "output_type": "stream",
          "name": "stdout",
          "text": [
            "['f', 'g']\n"
          ]
        }
      ]
    },
    {
      "cell_type": "code",
      "source": [
        "print(s[2:-1]) #keeping elements from 2 to 2nd last"
      ],
      "metadata": {
        "colab": {
          "base_uri": "https://localhost:8080/"
        },
        "id": "Nmr7vDx8Qw9g",
        "outputId": "4e95eb0a-41ac-4d9c-db99-d6ce71320d15"
      },
      "execution_count": 15,
      "outputs": [
        {
          "output_type": "stream",
          "name": "stdout",
          "text": [
            "['c', 'd', 'e', 'f', 'g']\n"
          ]
        }
      ]
    },
    {
      "cell_type": "markdown",
      "source": [
        "Stride and slicing"
      ],
      "metadata": {
        "id": "7lqnlxiZRlJ-"
      }
    },
    {
      "cell_type": "code",
      "source": [
        "print(s[::2], s[1::2])"
      ],
      "metadata": {
        "colab": {
          "base_uri": "https://localhost:8080/"
        },
        "id": "-4GxOO59RqXF",
        "outputId": "14e5e009-83ed-48df-c4d9-917e36e47265"
      },
      "execution_count": 16,
      "outputs": [
        {
          "output_type": "stream",
          "name": "stdout",
          "text": [
            "['a', 'c', 'e', 'g'] ['b', 'd', 'f', 'h']\n"
          ]
        }
      ]
    },
    {
      "cell_type": "code",
      "source": [
        "print(s[::-1])"
      ],
      "metadata": {
        "colab": {
          "base_uri": "https://localhost:8080/"
        },
        "id": "up7vDIOKSFxy",
        "outputId": "ed1f9234-d500-456b-a82c-de91f280f7b2"
      },
      "execution_count": 17,
      "outputs": [
        {
          "output_type": "stream",
          "name": "stdout",
          "text": [
            "['h', 'g', 'f', 'e', 'd', 'c', 'b', 'a']\n"
          ]
        }
      ]
    }
  ]
}
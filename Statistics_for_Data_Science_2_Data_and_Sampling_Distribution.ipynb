{
  "nbformat": 4,
  "nbformat_minor": 0,
  "metadata": {
    "colab": {
      "name": "Statistics for Data Science_2_Data and Sampling Distribution",
      "provenance": [],
      "mount_file_id": "1NKMqNNsxeEasWocUYI64nT3R0-GA0jzi",
      "authorship_tag": "ABX9TyOdXiQbQWs14Ap/hz2aDZqN",
      "include_colab_link": true
    },
    "kernelspec": {
      "name": "python3",
      "display_name": "Python 3"
    },
    "language_info": {
      "name": "python"
    }
  },
  "cells": [
    {
      "cell_type": "markdown",
      "metadata": {
        "id": "view-in-github",
        "colab_type": "text"
      },
      "source": [
        "<a href=\"https://colab.research.google.com/github/ManasviAtGitHub/Python-practice/blob/main/Statistics_for_Data_Science_2_Data_and_Sampling_Distribution.ipynb\" target=\"_parent\"><img src=\"https://colab.research.google.com/assets/colab-badge.svg\" alt=\"Open In Colab\"/></a>"
      ]
    },
    {
      "cell_type": "code",
      "execution_count": 1,
      "metadata": {
        "colab": {
          "base_uri": "https://localhost:8080/"
        },
        "id": "uT99FYOgTxTN",
        "outputId": "4437212b-ae8d-4169-a3ca-0156cb2e1a91"
      },
      "outputs": [
        {
          "output_type": "stream",
          "name": "stdout",
          "text": [
            "/content/drive/MyDrive/Datasets_py\n"
          ]
        }
      ],
      "source": [
        "cd drive/MyDrive/Datasets_py"
      ]
    },
    {
      "cell_type": "markdown",
      "source": [
        "**Random Sampling and Sample Bias**\n",
        "\n",
        "**Sample** is a subset of data from larger dataset (Population (itself is large sometimes imaginary set of data)).\n",
        "Random Sampling \n",
        "\n",
        "**Random sampling** is a process in which each available member of the population being sampled has an equal chance of being chosen. The sample that results is **simple random sample**.\n",
        "\n",
        "Sampling can be done **with replacement**, in which observations are put back in the population after each draw.(alternative is **without replacement**)\n",
        "\n",
        "**Stratified sampling** is dividing the population into strata (levels) and randomly sampling from each strata.\n",
        "\n",
        "**Stratum** is a homogeneous subgroup of a population with common characteristics.\n",
        "\n",
        "**Bias** is a systematic error\n",
        "\n",
        "**Sample bias** is sample that misrepresents the population."
      ],
      "metadata": {
        "id": "VyTYf6tUWuKS"
      }
    },
    {
      "cell_type": "markdown",
      "source": [
        "**Selection Bias**\n",
        "\n",
        "**Selection bias** is bias resulting from the way in which observations are selected.\n",
        "\n",
        "**Data snooping** is extensive hunting through data in search of something interesting.\n",
        "\n",
        "**Vast search effect** is bias or nonreproducibility resulting from repeated data modeling, or modeling data wiht large numbers of predictor variables."
      ],
      "metadata": {
        "id": "CLL9Ll_Lc4MT"
      }
    },
    {
      "cell_type": "markdown",
      "source": [
        "**Regression to the mean** refers to phenomenon involving successive measurements on a given variable where extreme observations tend to be followed by more central ones."
      ],
      "metadata": {
        "id": "YRQZiOxAfyFy"
      }
    },
    {
      "cell_type": "markdown",
      "source": [
        "**Sampling Distribution**\n",
        "\n",
        "**Sample statistic** is a metric calculated for a sample of data drawn from a larger population.\n",
        "\n",
        "**Data distribution** is frequency distribution of individual values in a data set.\n",
        "\n",
        "**Sampling distribution** is frequency distribution of a sample statistic over many samples or resamples.\n",
        "\n",
        "**Central limit theorem** is tendency of the sampling distribution to take on a normal shape as sample size rises.\n",
        "\n",
        "**Standard error** is variability(standard deviation) of a sample statistic over many samples (not same as Standard deviation).\n",
        "\n"
      ],
      "metadata": {
        "id": "dcSXqnmfgThP"
      }
    },
    {
      "cell_type": "code",
      "source": [
        "%matplotlib inline\n",
        "import numpy as np\n",
        "import pandas as pd\n",
        "from scipy import stats\n",
        "from sklearn.utils import resample\n",
        "import seaborn as sns\n",
        "import matplotlib.pylab as plt"
      ],
      "metadata": {
        "id": "eRSeYoaPWPB3"
      },
      "execution_count": 2,
      "outputs": []
    },
    {
      "cell_type": "code",
      "source": [
        "np.random.seed(1)\n",
        "x = np.linspace(-3, 3, 300)\n",
        "xsample = stats.norm.rvs(size =1000)\n",
        "fig, axes = plt.subplots(ncols = 2, figsize=(5,3))\n",
        "\n",
        "ax = axes[0]\n",
        "ax.fill(x, stats.norm.pdf(x))\n",
        "ax.set_axis_off()\n",
        "ax.set_xlim(-3,3)\n",
        "\n",
        "ax = axes[1]\n",
        "ax.hist(xsample,bins = 30)\n",
        "ax.set_axis_off()\n",
        "ax.set_xlim(-3,3)\n",
        "\n",
        "plt.show()"
      ],
      "metadata": {
        "colab": {
          "base_uri": "https://localhost:8080/",
          "height": 194
        },
        "id": "CZuhCeVGkhY9",
        "outputId": "2966eec5-69a4-49a5-ff54-f497dd73dc5d"
      },
      "execution_count": null,
      "outputs": [
        {
          "output_type": "display_data",
          "data": {
            "text/plain": [
              "<Figure size 360x216 with 2 Axes>"
            ],
            "image/png": "[encoded data removed]"
          },
          "metadata": {
            "needs_background": "light"
          }
        }
      ]
    },
    {
      "cell_type": "markdown",
      "source": [
        "**Sampling distribution of a Statistic**"
      ],
      "metadata": {
        "id": "9k5qyj4-lsZs"
      }
    },
    {
      "cell_type": "code",
      "source": [
        "loans = pd.read_csv('loans_income.csv').squeeze('columns') #returns without header"
      ],
      "metadata": {
        "id": "-LbT2-KTlzwC"
      },
      "execution_count": null,
      "outputs": []
    },
    {
      "cell_type": "code",
      "source": [
        "loans.head()"
      ],
      "metadata": {
        "colab": {
          "base_uri": "https://localhost:8080/"
        },
        "id": "yWb8etTTl8ss",
        "outputId": "aed90a87-a7d2-4a24-e366-4763dde3437d"
      },
      "execution_count": null,
      "outputs": [
        {
          "output_type": "execute_result",
          "data": {
            "text/plain": [
              "0     67000\n",
              "1     52000\n",
              "2    100000\n",
              "3     78762\n",
              "4     37041\n",
              "Name: x, dtype: int64"
            ]
          },
          "metadata": {},
          "execution_count": 8
        }
      ]
    },
    {
      "cell_type": "code",
      "source": [
        "#take 1000 samples\n",
        "sample_data = pd.DataFrame({\n",
        "    'income' : loans.sample(1000),\n",
        "    'type' : 'Data'\n",
        "})\n",
        "#running mean of 5 samples each, 1000 times\n",
        "sample_mean_5 = pd.DataFrame({\n",
        "    'income' : [loans.sample(5).mean() for _ in range(1000)],\n",
        "    'type' : 'Mean of 5'\n",
        "})\n",
        "#running mean of 20 samples each, 1000 times\n",
        "sample_mean_20 = pd.DataFrame({\n",
        "    'income' : [loans.sample(20).mean() for _ in range(1000)],\n",
        "    'type' : 'Mean of 20'\n",
        "})\n",
        "\n",
        "results = pd.concat([sample_data, sample_mean_5, sample_mean_20])"
      ],
      "metadata": {
        "id": "9Oc7wsAXl8HF"
      },
      "execution_count": null,
      "outputs": []
    },
    {
      "cell_type": "code",
      "source": [
        "results.head()"
      ],
      "metadata": {
        "colab": {
          "base_uri": "https://localhost:8080/",
          "height": 206
        },
        "id": "dnM1o4oPnqm1",
        "outputId": "90a53b48-e2d4-457c-8cd4-40d03087c6cd"
      },
      "execution_count": null,
      "outputs": [
        {
          "output_type": "execute_result",
          "data": {
            "text/plain": [
              "        income  type\n",
              "37018  70000.0  Data\n",
              "8537   49000.0  Data\n",
              "16357  70000.0  Data\n",
              "22719  54000.0  Data\n",
              "39538  38000.0  Data"
            ],
            "text/html": [
              "\n",
              "  <div id=\"df-8602aca6-2c4c-4aaa-889f-5273cc745adf\">\n",
              "    <div class=\"colab-df-container\">\n",
              "      <div>\n",
              "<style scoped>\n",
              "    .dataframe tbody tr th:only-of-type {\n",
              "        vertical-align: middle;\n",
              "    }\n",
              "\n",
              "    .dataframe tbody tr th {\n",
              "        vertical-align: top;\n",
              "    }\n",
              "\n",
              "    .dataframe thead th {\n",
              "        text-align: right;\n",
              "    }\n",
              "</style>\n",
              "<table border=\"1\" class=\"dataframe\">\n",
              "  <thead>\n",
              "    <tr style=\"text-align: right;\">\n",
              "      <th></th>\n",
              "      <th>income</th>\n",
              "      <th>type</th>\n",
              "    </tr>\n",
              "  </thead>\n",
              "  <tbody>\n",
              "    <tr>\n",
              "      <th>37018</th>\n",
              "      <td>70000.0</td>\n",
              "      <td>Data</td>\n",
              "    </tr>\n",
              "    <tr>\n",
              "      <th>8537</th>\n",
              "      <td>49000.0</td>\n",
              "      <td>Data</td>\n",
              "    </tr>\n",
              "    <tr>\n",
              "      <th>16357</th>\n",
              "      <td>70000.0</td>\n",
              "      <td>Data</td>\n",
              "    </tr>\n",
              "    <tr>\n",
              "      <th>22719</th>\n",
              "      <td>54000.0</td>\n",
              "      <td>Data</td>\n",
              "    </tr>\n",
              "    <tr>\n",
              "      <th>39538</th>\n",
              "      <td>38000.0</td>\n",
              "      <td>Data</td>\n",
              "    </tr>\n",
              "  </tbody>\n",
              "</table>\n",
              "</div>\n",
              "      <button class=\"colab-df-convert\" onclick=\"convertToInteractive('df-8602aca6-2c4c-4aaa-889f-5273cc745adf')\"\n",
              "              title=\"Convert this dataframe to an interactive table.\"\n",
              "              style=\"display:none;\">\n",
              "        \n",
              "  <svg xmlns=\"http://www.w3.org/2000/svg\" height=\"24px\"viewBox=\"0 0 24 24\"\n",
              "       width=\"24px\">\n",
              "    <path d=\"M0 0h24v24H0V0z\" fill=\"none\"/>\n",
              "    <path d=\"M18.56 5.44l.94 2.06.94-2.06 2.06-.94-2.06-.94-.94-2.06-.94 2.06-2.06.94zm-11 1L8.5 8.5l.94-2.06 2.06-.94-2.06-.94L8.5 2.5l-.94 2.06-2.06.94zm10 10l.94 2.06.94-2.06 2.06-.94-2.06-.94-.94-2.06-.94 2.06-2.06.94z\"/><path d=\"M17.41 7.96l-1.37-1.37c-.4-.4-.92-.59-1.43-.59-.52 0-1.04.2-1.43.59L10.3 9.45l-7.72 7.72c-.78.78-.78 2.05 0 2.83L4 21.41c.39.39.9.59 1.41.59.51 0 1.02-.2 1.41-.59l7.78-7.78 2.81-2.81c.8-.78.8-2.07 0-2.86zM5.41 20L4 18.59l7.72-7.72 1.47 1.35L5.41 20z\"/>\n",
              "  </svg>\n",
              "      </button>\n",
              "      \n",
              "  <style>\n",
              "    .colab-df-container {\n",
              "      display:flex;\n",
              "      flex-wrap:wrap;\n",
              "      gap: 12px;\n",
              "    }\n",
              "\n",
              "    .colab-df-convert {\n",
              "      background-color: #E8F0FE;\n",
              "      border: none;\n",
              "      border-radius: 50%;\n",
              "      cursor: pointer;\n",
              "      display: none;\n",
              "      fill: #1967D2;\n",
              "      height: 32px;\n",
              "      padding: 0 0 0 0;\n",
              "      width: 32px;\n",
              "    }\n",
              "\n",
              "    .colab-df-convert:hover {\n",
              "      background-color: #E2EBFA;\n",
              "      box-shadow: 0px 1px 2px rgba(60, 64, 67, 0.3), 0px 1px 3px 1px rgba(60, 64, 67, 0.15);\n",
              "      fill: #174EA6;\n",
              "    }\n",
              "\n",
              "    [theme=dark] .colab-df-convert {\n",
              "      background-color: #3B4455;\n",
              "      fill: #D2E3FC;\n",
              "    }\n",
              "\n",
              "    [theme=dark] .colab-df-convert:hover {\n",
              "      background-color: #434B5C;\n",
              "      box-shadow: 0px 1px 3px 1px rgba(0, 0, 0, 0.15);\n",
              "      filter: drop-shadow(0px 1px 2px rgba(0, 0, 0, 0.3));\n",
              "      fill: #FFFFFF;\n",
              "    }\n",
              "  </style>\n",
              "\n",
              "      <script>\n",
              "        const buttonEl =\n",
              "          document.querySelector('#df-8602aca6-2c4c-4aaa-889f-5273cc745adf button.colab-df-convert');\n",
              "        buttonEl.style.display =\n",
              "          google.colab.kernel.accessAllowed ? 'block' : 'none';\n",
              "\n",
              "        async function convertToInteractive(key) {\n",
              "          const element = document.querySelector('#df-8602aca6-2c4c-4aaa-889f-5273cc745adf');\n",
              "          const dataTable =\n",
              "            await google.colab.kernel.invokeFunction('convertToInteractive',\n",
              "                                                     [key], {});\n",
              "          if (!dataTable) return;\n",
              "\n",
              "          const docLinkHtml = 'Like what you see? Visit the ' +\n",
              "            '<a target=\"_blank\" href=https://colab.research.google.com/notebooks/data_table.ipynb>data table notebook</a>'\n",
              "            + ' to learn more about interactive tables.';\n",
              "          element.innerHTML = '';\n",
              "          dataTable['output_type'] = 'display_data';\n",
              "          await google.colab.output.renderOutput(dataTable, element);\n",
              "          const docLink = document.createElement('div');\n",
              "          docLink.innerHTML = docLinkHtml;\n",
              "          element.appendChild(docLink);\n",
              "        }\n",
              "      </script>\n",
              "    </div>\n",
              "  </div>\n",
              "  "
            ]
          },
          "metadata": {},
          "execution_count": 12
        }
      ]
    },
    {
      "cell_type": "code",
      "source": [
        "#using facet grid\n",
        "g = sns.FacetGrid(results, col='type', col_wrap=1, height=2, aspect=2)\n",
        "g.map(plt.hist, 'income', range=[0,200000], bins=40)\n",
        "g.set_axis_labels('Income', 'Count')\n",
        "g.set_titles('{col_name}')\n",
        "plt.show()"
      ],
      "metadata": {
        "colab": {
          "base_uri": "https://localhost:8080/",
          "height": 441
        },
        "id": "K6X7YmHxnvNQ",
        "outputId": "f6a42e7d-b48c-43a3-bfe9-289dba0b7c5a"
      },
      "execution_count": null,
      "outputs": [
        {
          "output_type": "display_data",
          "data": {
            "text/plain": [
              "<Figure size 288x432 with 3 Axes>"
            ],
            "image/png": "[encoded data removed]"
          },
          "metadata": {
            "needs_background": "light"
          }
        }
      ]
    },
    {
      "cell_type": "markdown",
      "source": [
        "👆 that's central limit theorem"
      ],
      "metadata": {
        "id": "qDn4emf7opeX"
      }
    },
    {
      "cell_type": "markdown",
      "source": [
        "**Bootstrap**\n",
        "is an easy and effective way to estimate the sampling distribution of a statistic, or of model parameters, is to draw additional sample, with replacement, from the sample itself and recalculate the statistic or model for each resample.\n",
        "\n",
        "**Bootstrap sample** is a sample taken with replacement from an observed dataset.\n",
        "\n",
        "**Resampling** is the process of taking repeated samples from observed data, it includes both bootstrap and permutation(shuffling) procedures."
      ],
      "metadata": {
        "id": "fk_LFfVYp00j"
      }
    },
    {
      "cell_type": "code",
      "source": [
        "results = []\n",
        "for nrepeat in range(1000):\n",
        "  sample = resample(loans)\n",
        "  results.append(sample.median())\n",
        "results = pd.Series(results)\n",
        "\n",
        "print(f'original: {loans.median()}')\n",
        "print(f'bias: {results.mean() - loans.median()}')\n",
        "print(f'std. error : {results.std()}')"
      ],
      "metadata": {
        "colab": {
          "base_uri": "https://localhost:8080/"
        },
        "id": "CST9AOyvo-9Y",
        "outputId": "00c0199a-adbb-47d6-f5ae-ac1b2bf71ce9"
      },
      "execution_count": null,
      "outputs": [
        {
          "output_type": "stream",
          "name": "stdout",
          "text": [
            "original: 62000.0\n",
            "bias: -86.18450000000303\n",
            "std. error : 235.45724096334604\n"
          ]
        }
      ]
    },
    {
      "cell_type": "markdown",
      "source": [
        "**Confidence Intervals**\n",
        "\n",
        "They are another way to understand potential error in a sample estimate. This is done by presenting an estimate as range to account for uncertainty\n",
        "\n",
        "**Confidence level** is the percentage of confidence intervals, constructed in the same way from the same population, that are expected to contain the statistic of interest.\n",
        "\n",
        "**Interval endpoints** is the top and bottom of confidence interval"
      ],
      "metadata": {
        "id": "XL-4q6q0t89E"
      }
    },
    {
      "cell_type": "markdown",
      "source": [
        "Confidence intervals always come with a coverage level, expressed as a (high) % say 90 % or 95 %.\n",
        "\n",
        "Think in terms that it is the interval that encloses the central x % of the bootstap sampling distribution of a sample statistic. "
      ],
      "metadata": {
        "id": "KCBZS6Onv0P9"
      }
    },
    {
      "cell_type": "code",
      "source": [
        "print(loans.mean())\n",
        "sample20 = resample(loans, n_samples=20, replace=False)\n",
        "print(sample20.mean())\n"
      ],
      "metadata": {
        "colab": {
          "base_uri": "https://localhost:8080/"
        },
        "id": "W3l-86FHvFZl",
        "outputId": "1d8f2cd5-d4f8-44de-b61b-4e99e38bbac9"
      },
      "execution_count": null,
      "outputs": [
        {
          "output_type": "stream",
          "name": "stdout",
          "text": [
            "68760.51844\n",
            "60821.4\n"
          ]
        }
      ]
    },
    {
      "cell_type": "code",
      "source": [
        "results = []\n",
        "for nrepeat in range(500):\n",
        "  sample = resample(sample20)\n",
        "  results.append(sample.mean())\n",
        "\n",
        "results = pd.Series(results)\n",
        "\n",
        "results.head()"
      ],
      "metadata": {
        "colab": {
          "base_uri": "https://localhost:8080/"
        },
        "id": "Mv3In3JWw3Rf",
        "outputId": "9469ab34-085f-4edc-d6de-11badd0b3c35"
      },
      "execution_count": null,
      "outputs": [
        {
          "output_type": "execute_result",
          "data": {
            "text/plain": [
              "0    58363.0\n",
              "1    64082.8\n",
              "2    60041.6\n",
              "3    56291.4\n",
              "4    61724.4\n",
              "dtype: float64"
            ]
          },
          "metadata": {},
          "execution_count": 16
        }
      ]
    },
    {
      "cell_type": "code",
      "source": [
        "confidence_interval = list(results.quantile([0.05,0.95]))\n",
        "ax = results.plot.hist(bins=30, figsize=(4,3))\n",
        "ax.plot(confidence_interval, [55, 55], color =\"black\")\n",
        "for x in confidence_interval:\n",
        "  ax.plot([x,x], [0,65], color='black')\n",
        "  ax.text(x, 70, f'{x:.0f}', horizontalalignment='center', verticalalignment='center')\n",
        "ax.text(sum(confidence_interval)/2, 60, '90% interval',horizontalalignment='center', verticalalignment='center' )\n",
        "\n",
        "meanIncome = results.mean()\n",
        "ax.plot([meanIncome, meanIncome], [0,50],color =\"black\", linestyle=\"--\")\n",
        "ax.text(meanIncome, 10, f'Mean: {meanIncome:.0f}',\n",
        "        bbox = dict(facecolor='white', edgecolor='white', alpha=0.5),\n",
        "        horizontalalignment = 'center', verticalalignment ='center'\n",
        "        )\n",
        "ax.set_ylim(0,80)\n",
        "ax.set_ylabel('Counts')\n",
        "plt.show()"
      ],
      "metadata": {
        "colab": {
          "base_uri": "https://localhost:8080/",
          "height": 215
        },
        "id": "b8QI5LeExak-",
        "outputId": "c9b0ceb3-baba-4a7d-e80b-a2e8f9fbb7cf"
      },
      "execution_count": null,
      "outputs": [
        {
          "output_type": "display_data",
          "data": {
            "text/plain": [
              "<Figure size 288x216 with 1 Axes>"
            ],
            "image/png": "[encoded data removed]"
          },
          "metadata": {
            "needs_background": "light"
          }
        }
      ]
    },
    {
      "cell_type": "markdown",
      "source": [
        "**Normal Distribution**\n",
        "\n",
        "**Error** is the difference between a data point and a predicted or average value.\n",
        "\n",
        "**Standardize** is subtracting the mean and divide by standard deviation.\n",
        "\n",
        "**z-score** is the result of standardizing an individual data point.\n",
        "\n",
        "**Standard normal** is a normal distribution with mean = 0 and standard deviation = 1.\n",
        "\n",
        "**QQ-Plot** is to visualize how close a sample distribution is to a specified distribution."
      ],
      "metadata": {
        "id": "q6ilmXJk0VuZ"
      }
    },
    {
      "cell_type": "markdown",
      "source": [
        "Standard Normal and QQ Plots"
      ],
      "metadata": {
        "id": "NydCOP6H3PJz"
      }
    },
    {
      "cell_type": "code",
      "source": [
        "fig, ax = plt.subplots(figsize=(4,4))\n",
        "\n",
        "norm_sample = stats.norm.rvs(size=100)\n",
        "stats.probplot(norm_sample, plot=ax)\n",
        "\n",
        "plt.show()"
      ],
      "metadata": {
        "colab": {
          "base_uri": "https://localhost:8080/",
          "height": 295
        },
        "id": "XgjGSlUT3TD4",
        "outputId": "6f8a8850-0a01-4863-94ee-b3f6b9ba609f"
      },
      "execution_count": null,
      "outputs": [
        {
          "output_type": "display_data",
          "data": {
            "text/plain": [
              "<Figure size 288x288 with 1 Axes>"
            ],
            "image/png": "[encoded data removed]"
          },
          "metadata": {
            "needs_background": "light"
          }
        }
      ]
    },
    {
      "cell_type": "markdown",
      "source": [
        "**Long Tailed Distributions**\n",
        "\n",
        "**Tail** is the long narrow portion of a frequency distribution, where relatively extreme values occur at low frequency.\n",
        "\n",
        "**Skew** is where one tail of distribution is longer than the other."
      ],
      "metadata": {
        "id": "2CTSHYxR4qVN"
      }
    },
    {
      "cell_type": "code",
      "source": [
        "sp = pd.read_csv('sp500_data.csv')"
      ],
      "metadata": {
        "id": "n5QrXyz6yBvu"
      },
      "execution_count": null,
      "outputs": []
    },
    {
      "cell_type": "code",
      "source": [
        "sp.head()"
      ],
      "metadata": {
        "colab": {
          "base_uri": "https://localhost:8080/",
          "height": 404
        },
        "id": "KATKBVCZ6Lqu",
        "outputId": "6c27afbe-fa22-4d1d-b841-91d1dae010da"
      },
      "execution_count": null,
      "outputs": [
        {
          "output_type": "execute_result",
          "data": {
            "text/plain": [
              "   Unnamed: 0  ADS        CA      MSFT  RHT  CTSH       CSC       EMC  \\\n",
              "0  1993-01-29  0.0  0.060124 -0.022100  0.0   0.0  0.018897  0.007368   \n",
              "1  1993-02-01  0.0 -0.180389  0.027621  0.0   0.0  0.018889  0.018425   \n",
              "2  1993-02-02  0.0 -0.120257  0.035900  0.0   0.0 -0.075573  0.029482   \n",
              "3  1993-02-03  0.0  0.060124 -0.024857  0.0   0.0 -0.151128  0.003689   \n",
              "4  1993-02-04  0.0 -0.360770 -0.060757  0.0   0.0  0.113350 -0.022114   \n",
              "\n",
              "        IBM       XRX  ...  WAT  ALXN     AMGN  BXLT     BIIB     CELG  \\\n",
              "0  0.092165  0.259140  ...  0.0   0.0  0.34716   0.0  0.04167  0.00000   \n",
              "1  0.115207 -0.100775  ...  0.0   0.0 -0.23144   0.0  0.00000 -0.01041   \n",
              "2 -0.023041  0.028796  ...  0.0   0.0 -0.11572   0.0  0.00000  0.00000   \n",
              "3 -0.253454 -0.043190  ...  0.0   0.0 -0.08679   0.0  0.04167 -0.04167   \n",
              "4  0.069862  0.000000  ...  0.0   0.0  0.14465   0.0 -0.04166 -0.03126   \n",
              "\n",
              "       GILD  REGN    VRTX  HSIC  \n",
              "0  0.015564  1.75  0.1250   0.0  \n",
              "1  0.007782  1.25  0.1250   0.0  \n",
              "2 -0.007792 -0.25  0.0000   0.0  \n",
              "3 -0.038919 -0.50  0.0625   0.0  \n",
              "4 -0.046711  0.00  0.0625   0.0  \n",
              "\n",
              "[5 rows x 518 columns]"
            ],
            "text/html": [
              "\n",
              "  <div id=\"df-5704458d-bda0-479f-901b-9cb36da8fd6b\">\n",
              "    <div class=\"colab-df-container\">\n",
              "      <div>\n",
              "<style scoped>\n",
              "    .dataframe tbody tr th:only-of-type {\n",
              "        vertical-align: middle;\n",
              "    }\n",
              "\n",
              "    .dataframe tbody tr th {\n",
              "        vertical-align: top;\n",
              "    }\n",
              "\n",
              "    .dataframe thead th {\n",
              "        text-align: right;\n",
              "    }\n",
              "</style>\n",
              "<table border=\"1\" class=\"dataframe\">\n",
              "  <thead>\n",
              "    <tr style=\"text-align: right;\">\n",
              "      <th></th>\n",
              "      <th>Unnamed: 0</th>\n",
              "      <th>ADS</th>\n",
              "      <th>CA</th>\n",
              "      <th>MSFT</th>\n",
              "      <th>RHT</th>\n",
              "      <th>CTSH</th>\n",
              "      <th>CSC</th>\n",
              "      <th>EMC</th>\n",
              "      <th>IBM</th>\n",
              "      <th>XRX</th>\n",
              "      <th>...</th>\n",
              "      <th>WAT</th>\n",
              "      <th>ALXN</th>\n",
              "      <th>AMGN</th>\n",
              "      <th>BXLT</th>\n",
              "      <th>BIIB</th>\n",
              "      <th>CELG</th>\n",
              "      <th>GILD</th>\n",
              "      <th>REGN</th>\n",
              "      <th>VRTX</th>\n",
              "      <th>HSIC</th>\n",
              "    </tr>\n",
              "  </thead>\n",
              "  <tbody>\n",
              "    <tr>\n",
              "      <th>0</th>\n",
              "      <td>1993-01-29</td>\n",
              "      <td>0.0</td>\n",
              "      <td>0.060124</td>\n",
              "      <td>-0.022100</td>\n",
              "      <td>0.0</td>\n",
              "      <td>0.0</td>\n",
              "      <td>0.018897</td>\n",
              "      <td>0.007368</td>\n",
              "      <td>0.092165</td>\n",
              "      <td>0.259140</td>\n",
              "      <td>...</td>\n",
              "      <td>0.0</td>\n",
              "      <td>0.0</td>\n",
              "      <td>0.34716</td>\n",
              "      <td>0.0</td>\n",
              "      <td>0.04167</td>\n",
              "      <td>0.00000</td>\n",
              "      <td>0.015564</td>\n",
              "      <td>1.75</td>\n",
              "      <td>0.1250</td>\n",
              "      <td>0.0</td>\n",
              "    </tr>\n",
              "    <tr>\n",
              "      <th>1</th>\n",
              "      <td>1993-02-01</td>\n",
              "      <td>0.0</td>\n",
              "      <td>-0.180389</td>\n",
              "      <td>0.027621</td>\n",
              "      <td>0.0</td>\n",
              "      <td>0.0</td>\n",
              "      <td>0.018889</td>\n",
              "      <td>0.018425</td>\n",
              "      <td>0.115207</td>\n",
              "      <td>-0.100775</td>\n",
              "      <td>...</td>\n",
              "      <td>0.0</td>\n",
              "      <td>0.0</td>\n",
              "      <td>-0.23144</td>\n",
              "      <td>0.0</td>\n",
              "      <td>0.00000</td>\n",
              "      <td>-0.01041</td>\n",
              "      <td>0.007782</td>\n",
              "      <td>1.25</td>\n",
              "      <td>0.1250</td>\n",
              "      <td>0.0</td>\n",
              "    </tr>\n",
              "    <tr>\n",
              "      <th>2</th>\n",
              "      <td>1993-02-02</td>\n",
              "      <td>0.0</td>\n",
              "      <td>-0.120257</td>\n",
              "      <td>0.035900</td>\n",
              "      <td>0.0</td>\n",
              "      <td>0.0</td>\n",
              "      <td>-0.075573</td>\n",
              "      <td>0.029482</td>\n",
              "      <td>-0.023041</td>\n",
              "      <td>0.028796</td>\n",
              "      <td>...</td>\n",
              "      <td>0.0</td>\n",
              "      <td>0.0</td>\n",
              "      <td>-0.11572</td>\n",
              "      <td>0.0</td>\n",
              "      <td>0.00000</td>\n",
              "      <td>0.00000</td>\n",
              "      <td>-0.007792</td>\n",
              "      <td>-0.25</td>\n",
              "      <td>0.0000</td>\n",
              "      <td>0.0</td>\n",
              "    </tr>\n",
              "    <tr>\n",
              "      <th>3</th>\n",
              "      <td>1993-02-03</td>\n",
              "      <td>0.0</td>\n",
              "      <td>0.060124</td>\n",
              "      <td>-0.024857</td>\n",
              "      <td>0.0</td>\n",
              "      <td>0.0</td>\n",
              "      <td>-0.151128</td>\n",
              "      <td>0.003689</td>\n",
              "      <td>-0.253454</td>\n",
              "      <td>-0.043190</td>\n",
              "      <td>...</td>\n",
              "      <td>0.0</td>\n",
              "      <td>0.0</td>\n",
              "      <td>-0.08679</td>\n",
              "      <td>0.0</td>\n",
              "      <td>0.04167</td>\n",
              "      <td>-0.04167</td>\n",
              "      <td>-0.038919</td>\n",
              "      <td>-0.50</td>\n",
              "      <td>0.0625</td>\n",
              "      <td>0.0</td>\n",
              "    </tr>\n",
              "    <tr>\n",
              "      <th>4</th>\n",
              "      <td>1993-02-04</td>\n",
              "      <td>0.0</td>\n",
              "      <td>-0.360770</td>\n",
              "      <td>-0.060757</td>\n",
              "      <td>0.0</td>\n",
              "      <td>0.0</td>\n",
              "      <td>0.113350</td>\n",
              "      <td>-0.022114</td>\n",
              "      <td>0.069862</td>\n",
              "      <td>0.000000</td>\n",
              "      <td>...</td>\n",
              "      <td>0.0</td>\n",
              "      <td>0.0</td>\n",
              "      <td>0.14465</td>\n",
              "      <td>0.0</td>\n",
              "      <td>-0.04166</td>\n",
              "      <td>-0.03126</td>\n",
              "      <td>-0.046711</td>\n",
              "      <td>0.00</td>\n",
              "      <td>0.0625</td>\n",
              "      <td>0.0</td>\n",
              "    </tr>\n",
              "  </tbody>\n",
              "</table>\n",
              "<p>5 rows × 518 columns</p>\n",
              "</div>\n",
              "      <button class=\"colab-df-convert\" onclick=\"convertToInteractive('df-5704458d-bda0-479f-901b-9cb36da8fd6b')\"\n",
              "              title=\"Convert this dataframe to an interactive table.\"\n",
              "              style=\"display:none;\">\n",
              "        \n",
              "  <svg xmlns=\"http://www.w3.org/2000/svg\" height=\"24px\"viewBox=\"0 0 24 24\"\n",
              "       width=\"24px\">\n",
              "    <path d=\"M0 0h24v24H0V0z\" fill=\"none\"/>\n",
              "    <path d=\"M18.56 5.44l.94 2.06.94-2.06 2.06-.94-2.06-.94-.94-2.06-.94 2.06-2.06.94zm-11 1L8.5 8.5l.94-2.06 2.06-.94-2.06-.94L8.5 2.5l-.94 2.06-2.06.94zm10 10l.94 2.06.94-2.06 2.06-.94-2.06-.94-.94-2.06-.94 2.06-2.06.94z\"/><path d=\"M17.41 7.96l-1.37-1.37c-.4-.4-.92-.59-1.43-.59-.52 0-1.04.2-1.43.59L10.3 9.45l-7.72 7.72c-.78.78-.78 2.05 0 2.83L4 21.41c.39.39.9.59 1.41.59.51 0 1.02-.2 1.41-.59l7.78-7.78 2.81-2.81c.8-.78.8-2.07 0-2.86zM5.41 20L4 18.59l7.72-7.72 1.47 1.35L5.41 20z\"/>\n",
              "  </svg>\n",
              "      </button>\n",
              "      \n",
              "  <style>\n",
              "    .colab-df-container {\n",
              "      display:flex;\n",
              "      flex-wrap:wrap;\n",
              "      gap: 12px;\n",
              "    }\n",
              "\n",
              "    .colab-df-convert {\n",
              "      background-color: #E8F0FE;\n",
              "      border: none;\n",
              "      border-radius: 50%;\n",
              "      cursor: pointer;\n",
              "      display: none;\n",
              "      fill: #1967D2;\n",
              "      height: 32px;\n",
              "      padding: 0 0 0 0;\n",
              "      width: 32px;\n",
              "    }\n",
              "\n",
              "    .colab-df-convert:hover {\n",
              "      background-color: #E2EBFA;\n",
              "      box-shadow: 0px 1px 2px rgba(60, 64, 67, 0.3), 0px 1px 3px 1px rgba(60, 64, 67, 0.15);\n",
              "      fill: #174EA6;\n",
              "    }\n",
              "\n",
              "    [theme=dark] .colab-df-convert {\n",
              "      background-color: #3B4455;\n",
              "      fill: #D2E3FC;\n",
              "    }\n",
              "\n",
              "    [theme=dark] .colab-df-convert:hover {\n",
              "      background-color: #434B5C;\n",
              "      box-shadow: 0px 1px 3px 1px rgba(0, 0, 0, 0.15);\n",
              "      filter: drop-shadow(0px 1px 2px rgba(0, 0, 0, 0.3));\n",
              "      fill: #FFFFFF;\n",
              "    }\n",
              "  </style>\n",
              "\n",
              "      <script>\n",
              "        const buttonEl =\n",
              "          document.querySelector('#df-5704458d-bda0-479f-901b-9cb36da8fd6b button.colab-df-convert');\n",
              "        buttonEl.style.display =\n",
              "          google.colab.kernel.accessAllowed ? 'block' : 'none';\n",
              "\n",
              "        async function convertToInteractive(key) {\n",
              "          const element = document.querySelector('#df-5704458d-bda0-479f-901b-9cb36da8fd6b');\n",
              "          const dataTable =\n",
              "            await google.colab.kernel.invokeFunction('convertToInteractive',\n",
              "                                                     [key], {});\n",
              "          if (!dataTable) return;\n",
              "\n",
              "          const docLinkHtml = 'Like what you see? Visit the ' +\n",
              "            '<a target=\"_blank\" href=https://colab.research.google.com/notebooks/data_table.ipynb>data table notebook</a>'\n",
              "            + ' to learn more about interactive tables.';\n",
              "          element.innerHTML = '';\n",
              "          dataTable['output_type'] = 'display_data';\n",
              "          await google.colab.output.renderOutput(dataTable, element);\n",
              "          const docLink = document.createElement('div');\n",
              "          docLink.innerHTML = docLinkHtml;\n",
              "          element.appendChild(docLink);\n",
              "        }\n",
              "      </script>\n",
              "    </div>\n",
              "  </div>\n",
              "  "
            ]
          },
          "metadata": {},
          "execution_count": 26
        }
      ]
    },
    {
      "cell_type": "code",
      "source": [
        "nflx = sp.NFLX\n",
        "nflx = np.diff(np.log(nflx[nflx>0]))\n",
        "\n",
        "fig, ax = plt.subplots(figsize=(4,4))\n",
        "stats.probplot(nflx, plot=ax)\n",
        "plt.show()"
      ],
      "metadata": {
        "colab": {
          "base_uri": "https://localhost:8080/",
          "height": 295
        },
        "id": "FbTDRLRq6Lv3",
        "outputId": "d5cc4990-42c5-43be-96b4-0e6ba8d39c42"
      },
      "execution_count": null,
      "outputs": [
        {
          "output_type": "display_data",
          "data": {
            "text/plain": [
              "<Figure size 288x288 with 1 Axes>"
            ],
            "image/png": "[encoded data removed]"
          },
          "metadata": {
            "needs_background": "light"
          }
        }
      ]
    },
    {
      "cell_type": "markdown",
      "source": [
        "**Student's t-Distribution**\n",
        "\n",
        "It is a normally shapped distribution, except that it is a bit thicker and longer on the tails.\n",
        "Its a family of distributions resembling the normal distribution but with thicker tail.\n",
        "\n",
        "\"*The larger the sample, the more normally shaped the t-distribution becomes*\"\n",
        "\n",
        "**Degree of freedom** is a parameter that allows the t-distribution to adjust to different sample sizes, statistics and number of groups."
      ],
      "metadata": {
        "id": "ktBn1rtC68mH"
      }
    },
    {
      "cell_type": "markdown",
      "source": [
        "**Binomial Distribution**\n",
        "\n",
        "Distribution of number of successes in x trials. (also called Bernoulli distribution)\n",
        "\n",
        "\n",
        "**Trial** is an event with a discrete outcome.\n",
        "\n",
        "**Success** is outcome of interest for a trial.\n",
        "\n",
        "**Binomial** is having two outcomes.\n",
        "\n",
        "**Binomial Trial** is trial with two outcomes.\n",
        "\n"
      ],
      "metadata": {
        "id": "G7oVLlKe9KMH"
      }
    },
    {
      "cell_type": "markdown",
      "source": [
        "If the probability of a click converting to a sale is 0.02, what is the probability of\n",
        "observing 10 sales in 200 clicks?"
      ],
      "metadata": {
        "id": "wUD5PY7q-UMf"
      }
    },
    {
      "cell_type": "code",
      "source": [
        "print(stats.binom.pmf(k=10, n=200, p=0.02))"
      ],
      "metadata": {
        "colab": {
          "base_uri": "https://localhost:8080/"
        },
        "id": "vm3ZFBlB9J3u",
        "outputId": "531b2074-dac0-4256-a364-c1b63a3ab129"
      },
      "execution_count": 3,
      "outputs": [
        {
          "output_type": "stream",
          "name": "stdout",
          "text": [
            "0.004948688430015755\n"
          ]
        }
      ]
    },
    {
      "cell_type": "code",
      "source": [
        "print(stats.binom.cdf(10, n=200, p=0.02))"
      ],
      "metadata": {
        "colab": {
          "base_uri": "https://localhost:8080/"
        },
        "id": "7Y2e0mTb6LyA",
        "outputId": "e0ba5b9b-4d97-4ad5-db7d-a4e63b73519a"
      },
      "execution_count": 4,
      "outputs": [
        {
          "output_type": "stream",
          "name": "stdout",
          "text": [
            "0.9974694005646547\n"
          ]
        }
      ]
    },
    {
      "cell_type": "markdown",
      "source": [
        "**Chi-Square Distribution**\n",
        "\n",
        "The idea is departure from expectation, especially with respect to category counts.\n",
        "Expectation is defined loosely as \"nothing unusual or of note in the data\" eg no correlation between variables or predicatable patterns. (Also called null hypothesis / null model)\n",
        "\n",
        "The statistic that measures the extent to which results depart from the null expectation of independence is the chi-square statistic.\n",
        "\n",
        "The chi-square distribution is the distribution of this statistic under repeated resampled draws from the null model. A low chi-square value for a set of counts indicates that they closely follow the expected distribution.\n",
        "\n",
        "\n",
        "\n",
        "\n"
      ],
      "metadata": {
        "id": "WLpsolKvRNa3"
      }
    },
    {
      "cell_type": "markdown",
      "source": [
        "**F-Distribution**\n",
        "Similar to chi-square but use for continous values rather than count.\n",
        "It measures the extent to whixh differences among group means are greater than we might expect under normal random variation and is the ration of the variability among the group means to variability within each group(called residual variability).\n",
        "This comparison is termed as analysis of variance(\"ANOVA\").\n"
      ],
      "metadata": {
        "id": "AL45wuBBXXV9"
      }
    },
    {
      "cell_type": "markdown",
      "source": [
        "**Poisson and Related Distributions**\n",
        "\n",
        "**Lambda** : the rate (per unit of time or space) at which events occur.\n",
        "\n",
        "**Poisson Distribution** : the frequency distribution of the number of events in sampled units of time or space.\n",
        "\n",
        "**Exponential Distribution** : the frequency distribution of time or distance from one event to the next event.\n",
        "\n",
        "**Weibull Distribution** : a generalized version of the expeonential distribution in which the event rate is allowed to shift over time."
      ],
      "metadata": {
        "id": "NMkYJuBXcOmZ"
      }
    },
    {
      "cell_type": "markdown",
      "source": [
        "Poisson Distribution"
      ],
      "metadata": {
        "id": "CIpc8Zq9jYD8"
      }
    },
    {
      "cell_type": "code",
      "source": [
        "sample = stats.poisson.rvs(2, size=100)\n",
        "pd.Series(sample).plot.hist()\n",
        "plt.show()"
      ],
      "metadata": {
        "id": "J1DZxvr26L0V",
        "colab": {
          "base_uri": "https://localhost:8080/",
          "height": 265
        },
        "outputId": "60b315b2-423c-41ca-8742-85efb3693e18"
      },
      "execution_count": 6,
      "outputs": [
        {
          "output_type": "display_data",
          "data": {
            "text/plain": [
              "<Figure size 432x288 with 1 Axes>"
            ],
            "image/png": "[encoded data removed]"
          },
          "metadata": {
            "needs_background": "light"
          }
        }
      ]
    },
    {
      "cell_type": "markdown",
      "source": [
        "Exponential Distribution"
      ],
      "metadata": {
        "id": "MGY8bxSMkzlo"
      }
    },
    {
      "cell_type": "code",
      "source": [
        "sample = stats.expon.rvs(scale =5, size=100)\n",
        "pd.Series(sample).plot.hist()\n",
        "plt.show()"
      ],
      "metadata": {
        "id": "f7ZBmYqL6L2J",
        "colab": {
          "base_uri": "https://localhost:8080/",
          "height": 265
        },
        "outputId": "b7afedbf-3bb4-4d82-cbf2-f373ec547005"
      },
      "execution_count": 10,
      "outputs": [
        {
          "output_type": "display_data",
          "data": {
            "text/plain": [
              "<Figure size 432x288 with 1 Axes>"
            ],
            "image/png": "[encoded data removed]"
          },
          "metadata": {
            "needs_background": "light"
          }
        }
      ]
    },
    {
      "cell_type": "markdown",
      "source": [
        "Weibull Distribution"
      ],
      "metadata": {
        "id": "IscPQYQ2k9bO"
      }
    },
    {
      "cell_type": "code",
      "source": [
        "sample = stats.weibull_min.rvs(0.9, scale =5, size=100)\n",
        "pd.Series(sample).plot.hist()\n",
        "plt.show()"
      ],
      "metadata": {
        "id": "BnzAgiml6L5j",
        "colab": {
          "base_uri": "https://localhost:8080/",
          "height": 265
        },
        "outputId": "8464c28d-abda-4c89-c21f-d1ce7cec058e"
      },
      "execution_count": 16,
      "outputs": [
        {
          "output_type": "display_data",
          "data": {
            "text/plain": [
              "<Figure size 432x288 with 1 Axes>"
            ],
            "image/png": "[encoded data removed]"
          },
          "metadata": {
            "needs_background": "light"
          }
        }
      ]
    },
    {
      "cell_type": "code",
      "source": [
        ""
      ],
      "metadata": {
        "id": "sJ_B8EuYyzew"
      },
      "execution_count": null,
      "outputs": []
    }
  ]
}